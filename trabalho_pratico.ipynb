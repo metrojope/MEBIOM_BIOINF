{
 "cells": [
  {
   "cell_type": "code",
   "execution_count": 1,
   "metadata": {},
   "outputs": [],
   "source": [
    "import pandas as pd\n",
    "from sklearn import preprocessing\n",
    "from sklearn.decomposition import PCA\n",
    "import matplotlib.pyplot as plt\n",
    "import numpy as np\n",
    "from sklearn.neighbors import KNeighborsClassifier\n",
    "from scipy.cluster.hierarchy import dendrogram, linkage\n",
    "from sklearn.feature_selection import VarianceThreshold, SelectPercentile, f_classif"
   ]
  },
  {
   "cell_type": "code",
   "execution_count": 2,
   "metadata": {},
   "outputs": [],
   "source": [
    "# Upload dos dados e metadados\n",
    "datai = pd.read_csv(\"gds1686.csv\", sep=',', index_col = 0)\n",
    "meta = pd.read_csv(\"meta-gds1686.csv\", sep = \",\", index_col = 0)"
   ]
  },
  {
   "cell_type": "code",
   "execution_count": 3,
   "metadata": {},
   "outputs": [
    {
     "name": "stdout",
     "output_type": "stream",
     "text": [
      "Dados:  (14010, 30)\n",
      "Metadados:  (30, 4)\n"
     ]
    }
   ],
   "source": [
    "# Contagem do número de atributos e instâncias dos dados e metadados\n",
    "print('Dados: ', datai.values.shape)\n",
    "print('Metadados: ', meta.values.shape)"
   ]
  },
  {
   "cell_type": "markdown",
   "metadata": {},
   "source": [
    "**Dados e metadados**\n",
    "\n",
    "Os dados são compostos por 14010 instâncias (linhas) e 30 atributos (colunas).\n",
    "Os metadados são compostos por 30 instâncias e 4 atributos.\n",
    "\n",
    "Criou-se então a matriz de dados transposta, de forma a ter o mesmo número de atributos nos dados e metadados. As 30 instâncias correspondem às 30 moscas, submetidas às medições dos níveis de expressão dos genes nos diferentes ambientes. Os 14010 atributos são os genes estudados."
   ]
  },
  {
   "cell_type": "code",
   "execution_count": 4,
   "metadata": {
    "scrolled": true
   },
   "outputs": [
    {
     "name": "stdout",
     "output_type": "stream",
     "text": [
      "          141200_at  141201_at  141202_at  141203_at  141204_at  141205_at  \\\n",
      "GSM95424    3.77628    5.64283    6.80354    5.42622    4.58124    5.94997   \n",
      "GSM95425    3.44458    5.47795    7.01271    5.53965    4.55277    5.94535   \n",
      "GSM95444    3.76067    5.53370    6.81637    5.38007    4.45829    5.97233   \n",
      "GSM95324    3.38473    5.58603    6.66803    5.26991    4.45801    5.62635   \n",
      "GSM95421    3.57696    5.60629    6.73312    5.18558    4.56932    5.79158   \n",
      "GSM95423    3.71310    5.57885    6.96012    5.36280    4.45476    5.75519   \n",
      "GSM95325    3.59374    5.60380    6.55975    5.06871    4.47072    5.63485   \n",
      "GSM95420    3.68243    5.40856    6.91156    5.31143    4.60259    5.84344   \n",
      "GSM95422    3.71822    5.53217    6.53144    5.24742    4.68283    5.89039   \n",
      "GSM95290    3.95261    5.55998    7.19880    5.51060    4.74907    6.27263   \n",
      "GSM95292    3.67817    5.37299    7.10604    5.55732    4.73757    6.38052   \n",
      "GSM95293    3.57283    5.60045    6.99170    4.92440    4.60691    5.85537   \n",
      "GSM95262    3.59273    5.54066    7.20713    5.34438    4.75126    6.07541   \n",
      "GSM95263    3.70173    5.54693    6.88922    5.31099    4.63275    5.99084   \n",
      "GSM95291    3.84251    5.53791    7.13280    5.25818    4.61199    6.05975   \n",
      "GSM95112    3.56832    5.35057    6.81038    5.30885    4.38889    5.99645   \n",
      "GSM95114    3.47294    5.36798    6.59039    5.00733    4.42526    5.70484   \n",
      "GSM95242    3.61899    5.45633    7.10774    5.29198    4.60187    6.22243   \n",
      "GSM95237    3.65057    5.42917    7.15448    5.57140    4.79595    6.35720   \n",
      "GSM95239    3.49014    5.36852    7.02300    5.29710    4.71561    5.99588   \n",
      "GSM95256    3.48292    5.48704    6.99686    5.46427    4.60023    6.19795   \n",
      "GSM95236    3.47337    5.50797    6.84621    5.18254    4.60738    5.80494   \n",
      "GSM95259    3.33723    5.60756    7.16120    4.89952    4.66237    6.08442   \n",
      "GSM95295    3.71650    5.45302    7.21648    5.26514    4.50229    5.93710   \n",
      "GSM95194    3.59834    5.43918    6.88146    5.24436    4.50161    5.81833   \n",
      "GSM95296    3.61366    5.46530    7.23107    5.30005    4.61582    6.20205   \n",
      "GSM95323    3.51833    5.39093    7.14023    5.25522    4.75641    6.02565   \n",
      "GSM95260    3.49258    5.31444    6.99964    5.18857    4.67276    5.77513   \n",
      "GSM95261    3.59201    5.38658    6.99194    4.87618    4.70003    5.91450   \n",
      "GSM95294    3.61900    5.52682    6.89965    4.64422    4.51917    5.54886   \n",
      "\n",
      "          141206_at  141207_at  141208_at  141209_at  ...  AFFX-ThrX-3_at  \\\n",
      "GSM95424    7.10323    4.31335    5.25411    7.65238  ...         7.55184   \n",
      "GSM95425    6.90955    4.38611    5.27720    7.51818  ...         6.78527   \n",
      "GSM95444    6.94380    4.20917    5.36327    7.63492  ...         8.20187   \n",
      "GSM95324    6.82933    4.20606    5.32454    7.45160  ...         6.30469   \n",
      "GSM95421    6.97706    4.22661    5.40733    7.53137  ...         6.77700   \n",
      "GSM95423    7.00155    4.15154    5.37987    7.59254  ...         6.66053   \n",
      "GSM95325    6.84405    3.94747    5.19602    7.37731  ...         6.83628   \n",
      "GSM95420    6.88599    4.36661    5.41965    7.42033  ...         6.76439   \n",
      "GSM95422    7.08814    4.02184    5.31896    7.54474  ...         6.99822   \n",
      "GSM95290    7.26723    4.47476    5.54710    7.73129  ...         3.83702   \n",
      "GSM95292    7.30107    4.85886    5.67052    7.42149  ...         3.75049   \n",
      "GSM95293    7.04612    4.44182    5.15460    7.57755  ...         4.18807   \n",
      "GSM95262    7.12128    4.64402    5.58334    7.53948  ...         3.96581   \n",
      "GSM95263    6.91636    4.41563    5.39835    7.42456  ...         4.19686   \n",
      "GSM95291    7.19411    4.84036    5.84041    7.47577  ...         4.03202   \n",
      "GSM95112    6.92828    4.47072    5.40031    7.33966  ...         4.13886   \n",
      "GSM95114    6.77359    4.43998    5.17224    7.40192  ...         4.20482   \n",
      "GSM95242    7.05528    4.62824    5.44395    7.41678  ...         3.88820   \n",
      "GSM95237    6.99981    4.60173    5.83647    7.50339  ...         4.00188   \n",
      "GSM95239    6.93164    4.46610    5.45592    7.45956  ...         4.17794   \n",
      "GSM95256    7.01813    4.65171    5.54313    7.37638  ...         4.01036   \n",
      "GSM95236    6.85509    4.33647    5.02159    7.12219  ...         4.23856   \n",
      "GSM95259    6.90477    3.66241    5.48508    7.30661  ...         4.22907   \n",
      "GSM95295    7.07699    4.50527    5.52880    7.32624  ...         4.04266   \n",
      "GSM95194    6.90999    4.48618    5.38018    7.30555  ...         4.02345   \n",
      "GSM95296    7.07053    4.55939    5.47177    7.51354  ...         3.96276   \n",
      "GSM95323    6.98945    4.47822    5.55008    7.36444  ...         4.07560   \n",
      "GSM95260    6.98939    4.18343    5.12877    7.37153  ...         4.14432   \n",
      "GSM95261    6.90513    4.46629    5.47299    7.31211  ...         4.08759   \n",
      "GSM95294    6.86361    4.33264    5.13968    7.16980  ...         4.26890   \n",
      "\n",
      "          AFFX-ThrX-5_at  AFFX-ThrX-M_at  AFFX-TrpnX-3_at  AFFX-TrpnX-5_at  \\\n",
      "GSM95424         5.43532         5.67326          2.36744          2.66457   \n",
      "GSM95425         5.05907         4.92737          2.27453          2.46741   \n",
      "GSM95444         5.83632         6.67257          2.40788          2.61438   \n",
      "GSM95324         5.02071         4.60969          2.33026          2.64872   \n",
      "GSM95421         4.85726         5.04870          2.35221          2.73892   \n",
      "GSM95423         4.78067         4.85828          2.47444          2.71069   \n",
      "GSM95325         4.96311         5.19890          2.68569          2.81651   \n",
      "GSM95420         4.74533         5.06816          2.58346          2.72166   \n",
      "GSM95422         4.98203         5.03550          2.59126          2.84020   \n",
      "GSM95290         3.81792         2.73457          2.35884          2.57256   \n",
      "GSM95292         3.63657         2.80322          2.24774          2.64016   \n",
      "GSM95293         3.92631         2.86763          2.33716          2.62173   \n",
      "GSM95262         3.60723         2.79411          2.26433          2.67909   \n",
      "GSM95263         4.02479         3.06715          2.49967          2.65318   \n",
      "GSM95291         3.60691         2.78999          2.39437          2.67136   \n",
      "GSM95112         3.81244         2.77903          2.30384          2.71275   \n",
      "GSM95114         3.92395         3.03068          2.35722          2.74292   \n",
      "GSM95242         3.70795         2.62421          2.31259          2.76930   \n",
      "GSM95237         3.49677         2.85580          2.29418          2.59401   \n",
      "GSM95239         3.95889         2.83375          2.30569          2.82764   \n",
      "GSM95256         3.80056         2.73168          2.30137          2.53118   \n",
      "GSM95236         3.84479         2.98200          2.49131          2.79782   \n",
      "GSM95259         4.03283         2.94817          2.53572          2.73546   \n",
      "GSM95295         3.77213         2.79455          2.32138          2.67646   \n",
      "GSM95194         3.71468         2.94792          2.28795          2.69254   \n",
      "GSM95296         3.71634         2.77236          2.31900          2.56384   \n",
      "GSM95323         3.75941         2.84159          2.40562          2.65472   \n",
      "GSM95260         3.56233         2.92607          2.48418          2.74072   \n",
      "GSM95261         3.95950         2.99479          2.39684          2.72137   \n",
      "GSM95294         3.98361         2.95161          2.27635          2.67149   \n",
      "\n",
      "          AFFX-TrpnX-M_at  AFFX-YEL002c/WBP1_at  AFFX-YEL018w/_at  \\\n",
      "GSM95424          2.72344               2.89604           2.34574   \n",
      "GSM95425          2.77508               2.68409           2.46161   \n",
      "GSM95444          2.65315               2.74543           2.42794   \n",
      "GSM95324          2.68254               2.56479           2.40380   \n",
      "GSM95421          2.73579               2.59447           2.38402   \n",
      "GSM95423          2.92240               2.57816           2.58365   \n",
      "GSM95325          2.69964               2.77758           2.42352   \n",
      "GSM95420          2.85899               2.70990           2.67445   \n",
      "GSM95422          2.94747               2.63822           2.57970   \n",
      "GSM95290          2.69707               2.63608           2.35930   \n",
      "GSM95292          2.71181               2.44105           2.34352   \n",
      "GSM95293          2.78936               2.50171           2.39130   \n",
      "GSM95262          2.78604               2.52477           2.36540   \n",
      "GSM95263          2.89197               2.64141           2.41052   \n",
      "GSM95291          2.70137               2.53060           2.44858   \n",
      "GSM95112          2.93196               2.74293           2.43629   \n",
      "GSM95114          2.79531               2.62824           2.59568   \n",
      "GSM95242          2.80309               2.44776           2.37761   \n",
      "GSM95237          2.80751               2.47106           2.50044   \n",
      "GSM95239          2.93165               2.64033           2.43149   \n",
      "GSM95256          2.84597               2.51781           2.43945   \n",
      "GSM95236          3.04323               2.68081           2.73031   \n",
      "GSM95259          2.81115               2.66831           2.55499   \n",
      "GSM95295          2.81911               2.59707           2.50369   \n",
      "GSM95194          2.83479               2.65906           2.54094   \n",
      "GSM95296          2.78406               2.60932           2.45865   \n",
      "GSM95323          2.77331               2.72341           2.45135   \n",
      "GSM95260          2.95209               2.57746           2.39673   \n",
      "GSM95261          2.77462               2.61664           2.61730   \n",
      "GSM95294          2.77627               2.50205           2.33452   \n",
      "\n",
      "          AFFX-YEL021w/URA3_at  AFFX-YEL024w/RIP1_at  \n",
      "GSM95424               2.46772               2.87624  \n",
      "GSM95425               2.40230               2.88107  \n",
      "GSM95444               2.37488               2.93086  \n",
      "GSM95324               2.37482               2.81991  \n",
      "GSM95421               2.45214               2.85487  \n",
      "GSM95423               2.51899               2.98672  \n",
      "GSM95325               2.44716               2.85868  \n",
      "GSM95420               2.31072               2.91087  \n",
      "GSM95422               2.61828               2.98960  \n",
      "GSM95290               2.22649               2.75311  \n",
      "GSM95292               2.22601               2.69280  \n",
      "GSM95293               2.38763               2.87921  \n",
      "GSM95262               2.38764               2.87349  \n",
      "GSM95263               2.32110               2.85350  \n",
      "GSM95291               2.38664               2.81001  \n",
      "GSM95112               2.38523               2.87180  \n",
      "GSM95114               2.47838               3.04000  \n",
      "GSM95242               2.37690               2.84318  \n",
      "GSM95237               2.30044               2.74648  \n",
      "GSM95239               2.52944               2.83849  \n",
      "GSM95256               2.32745               2.72469  \n",
      "GSM95236               2.44649               3.02880  \n",
      "GSM95259               2.43784               2.92478  \n",
      "GSM95295               2.42960               2.78004  \n",
      "GSM95194               2.32200               2.86386  \n",
      "GSM95296               2.26008               2.78003  \n",
      "GSM95323               2.37731               2.78019  \n",
      "GSM95260               2.38820               3.03251  \n",
      "GSM95261               2.41316               2.90677  \n",
      "GSM95294               2.40617               2.90080  \n",
      "\n",
      "[30 rows x 14010 columns]\n"
     ]
    }
   ],
   "source": [
    "data=datai.transpose()\n",
    "print(data)\n"
   ]
  },
  {
   "cell_type": "code",
   "execution_count": 5,
   "metadata": {
    "scrolled": false
   },
   "outputs": [
    {
     "name": "stdout",
     "output_type": "stream",
     "text": [
      "Valores em falta nos dados:\n",
      "0\n",
      "Valores em falta nos metadados:\n",
      "0\n"
     ]
    }
   ],
   "source": [
    "# Missing Values \n",
    "print(\"Valores em falta nos dados:\")\n",
    "print(data.isnull().sum().sum())\n",
    "print(\"Valores em falta nos metadados:\")\n",
    "print(meta.isnull().sum().sum())"
   ]
  },
  {
   "cell_type": "code",
   "execution_count": 6,
   "metadata": {},
   "outputs": [
    {
     "name": "stdout",
     "output_type": "stream",
     "text": [
      "Tipos de atributos nos dados:\n",
      "141200_at               float64\n",
      "141201_at               float64\n",
      "141202_at               float64\n",
      "141203_at               float64\n",
      "141204_at               float64\n",
      "                         ...   \n",
      "AFFX-TrpnX-M_at         float64\n",
      "AFFX-YEL002c/WBP1_at    float64\n",
      "AFFX-YEL018w/_at        float64\n",
      "AFFX-YEL021w/URA3_at    float64\n",
      "AFFX-YEL024w/RIP1_at    float64\n",
      "Length: 14010, dtype: object\n"
     ]
    }
   ],
   "source": [
    "# Descrição dos atributos nos dados\n",
    "print(\"Tipos de atributos nos dados:\")\n",
    "print(data.dtypes)"
   ]
  },
  {
   "cell_type": "code",
   "execution_count": 7,
   "metadata": {},
   "outputs": [
    {
     "name": "stdout",
     "output_type": "stream",
     "text": [
      "Tipos de atributos nos metadados:\n",
      "sample         object\n",
      "protocol       object\n",
      "time           object\n",
      "description    object\n",
      "dtype: object\n"
     ]
    }
   ],
   "source": [
    "# Descrição dos atributos nos metadados\n",
    "print(\"Tipos de atributos nos metadados:\")\n",
    "print(meta.dtypes)"
   ]
  },
  {
   "cell_type": "markdown",
   "metadata": {
    "collapsed": true
   },
   "source": [
    "**Data Understanding**\n",
    "\n",
    "Este estudo pretendia investigar os efeitos da privação do sono no cérebro de moscas fêmeas virgens da espécie *Drosophila melanogaster*, através da análise de variações na expressão génica destas. Os genes estudados tinham já sido documentados como sendo regulados de forma diferente durante períodos de sono ou atividade. \n",
    "\n",
    "Obtiveram-se informações sobre os processos moleculares dinâmicos que são alterados durante a vigília e durante o sono. Para tal, realizou-se um estudo de perfil de expressão de RNA examinando-se mudanças temporais no cérebro da *D. melanogaster* em relação à duração do sono ou vigília anteriores. O projeto experimental permitiu determinar se os genes identificados como regulados diferencialmente entre o sono e a vigília eram regulados para cima ou para baixo nesses estados.\n",
    "\n",
    "Parte dos dados dizem respeito ao controlo dos processos circadianos, matando-se animais em quatro pontos de tempo (0, 2, 4 e 6 horas) desde o início do período de descanso consolidado [Zeitgeber Time (ZT) 14)] sob duas condições: privação de sono e sono espontâneo. O ponto de tempo “0” trata-se do controlo do período de sono.\n",
    "\n",
    "O restantes dados surgiram com o intuito de controlar o efeito do estimulação das moscas durante a privação de sono, sendo referentes à estimulação manual das moscas durante o seu período ativo de ZT10-ZT14. Neste conjunto de dados, foram analisadas moscas no ponto de tempo “0”/ZT10 (controlo) e ao fim de 4 horas/ZT14, para moscas perturbadas e não perturbadas."
   ]
  },
  {
   "cell_type": "markdown",
   "metadata": {},
   "source": [
    "Nos dados, cada atributo representa um dos genes em estudo e cada instância corresponde a uma das amostras. Assim, cada linha terá os valores de expressão de 14010 genes (cada célula é representada por um dado do tipo *float64*).\n",
    " \n",
    "Já nos metadados, os atributos são: a amostra, o ambiente a que foi sujeita, o período de sujeição ao ambiente e a descrição de cada instância. Estes atributos são do tipo *object*. Os meta-dados possuem quatro variáveis (\"sample\", \"protocol\", \"time\", \"description\"), mas apenas duas possuem informação relevante para análise dos dados e geração dos modelos de machine learning: \"protocol\" e \"time\"."
   ]
  },
  {
   "cell_type": "markdown",
   "metadata": {},
   "source": [
    "**Data Processing**\n",
    "\n",
    "Neste dataset, as amostras estão agrupadas em ambientes de recolha. Tendo isto em conta e o facto de serem apenas 30, não se considerou pertinente proceder à remoção de outliers. Também não se verifica a existência de valores nulos.\n",
    "Como todos os dados estão representados na mesma escala (nível de expressão génica) e o número de atributos é igual para todas as amostras, não haveria necessidade total de realizar normalização nem balaceamento dos dados. Contudo, procedeu-se na mesma à normalização para obter média igual a zero e desvio-padrão igual a 1, para na análise dos modelos a criar se poder deixar de lado a importância da escala.\n",
    "\n",
    "Este dataset apresenta um elevado valor de atributos (colunas) - 14010 - correspondentes aos diferentes genes estudados. Uma análise de PC (Principal Components) permitirá reduzir este número, considerando apenas os atributos que conseguem explicar a maioria da variabilidade dos dados. Por exemplo, se se aplicar uma PCA que permita explicar 90% desta variabilidade, reduzir-se-á o número de atributos àqueles que a explicam."
   ]
  },
  {
   "cell_type": "code",
   "execution_count": 8,
   "metadata": {},
   "outputs": [
    {
     "name": "stdout",
     "output_type": "stream",
     "text": [
      "[2.39691084e-01 1.58470120e-01 7.16860362e-02 4.50942771e-02\n",
      " 3.79773784e-02 3.63413360e-02 3.27745431e-02 2.90720793e-02\n",
      " 2.77946897e-02 2.40645040e-02 2.23265235e-02 2.06159151e-02\n",
      " 1.96604660e-02 1.90771731e-02 1.86079279e-02 1.76392933e-02\n",
      " 1.72669578e-02 1.62588555e-02 1.57998798e-02 1.52603008e-02\n",
      " 1.47597314e-02 1.43374509e-02 1.40301536e-02 1.31051139e-02\n",
      " 1.25497475e-02 1.23073635e-02 1.19131001e-02 1.12827570e-02\n",
      " 1.02352418e-02 1.28653494e-34]\n",
      "0.7029660476600381\n"
     ]
    },
    {
     "data": {
      "image/png": "[encoded data removed]",
      "text/plain": [
       "<Figure size 2000x600 with 1 Axes>"
      ]
     },
     "metadata": {},
     "output_type": "display_data"
    },
    {
     "name": "stdout",
     "output_type": "stream",
     "text": [
      "0.7029660476600381 9\n",
      "0.7252925711182635 10\n",
      "0.7459084862141242 11\n",
      "0.7655689522059184 12\n",
      "0.7846461252670311 13\n",
      "0.8032540531492967 14\n",
      "0.8208933464185278 15\n",
      "0.8381603042439878 16\n",
      "0.8544191596971646 17\n",
      "0.870219039463503 18\n",
      "0.885479340219954 19\n",
      "0.9002390716175566 20\n",
      "0.9145765225538591 21\n",
      "0.9286066761961073 22\n",
      "0.9417117901049408 23\n",
      "0.9542615375943396 24\n",
      "0.9665689011365899 25\n",
      "0.9784820012019474 26\n",
      "0.989764758222336 27\n",
      "1.0 28\n",
      "1.0 29\n"
     ]
    }
   ],
   "source": [
    "n=30\n",
    "# 30 amostras para análise\n",
    "pca = PCA(n_components=n)\n",
    "data_scale = preprocessing.scale(data)\n",
    "pca.fit(data_scale)                                                           # media e desvio\n",
    "x_reduced = pca.transform(data_scale)   \n",
    "principalComponents = pca.fit_transform(x_reduced)# escala\n",
    "print (pca.explained_variance_ratio_) \n",
    "print(sum(pca.explained_variance_ratio_[:10]))                          # 90% da variabilidade\n",
    "\n",
    "per_var=np.round(pca.explained_variance_ratio_*100, decimals=1)\n",
    "labels=[\"PC\"+str(x) for x in range(1,len(per_var)+1)]                  \n",
    "plt.figure(figsize=(20, 6))  # width:20, height:3\n",
    "\n",
    "plt.bar([x*2 for x in range(1,len(per_var)+1)], height=per_var, align=\"center\", width=1)\n",
    "plt.ylabel(\"Percentagem da variação explicada\")\n",
    "plt.xticks([x*2 for x in range(1,len(per_var)+1)], labels, rotation=45)\n",
    "\n",
    "\n",
    "plt.show()\n",
    "\n",
    "soma=0\n",
    "for i in range(len(pca.explained_variance_ratio_)):\n",
    "    soma+=pca.explained_variance_ratio_[i]\n",
    "    if soma>=0.70:\n",
    "        print(soma,i)\n",
    "\n"
   ]
  },
  {
   "cell_type": "markdown",
   "metadata": {},
   "source": [
    "O gráfico das percentagens de variabilidade explicadas por PC permite inferir que a partir dos 10 primeiros componentes a variabilidade adicional explicada por cada novo componente principal é muito baixa. Os 10 primeiros PC descrevem 72.5% da variabilidade, enquanto que os \"standard\" 90% de variabilidade são atingidos com 20 PC's."
   ]
  },
  {
   "cell_type": "markdown",
   "metadata": {},
   "source": [
    "Em seguida, fez-se uma análise dos scores do PCA com representação gráfica, de forma a melhor identificar correlações entre os dados e a perceber se existem tendências entre os diferentes protocolos implementados. Esta análise posiciona as amostras num espaço bidimensional, onde no eixo do x são separadas segundo o score do primeiro PCA e no eixo do y do segundo PCA."
   ]
  },
  {
   "cell_type": "code",
   "execution_count": 9,
   "metadata": {},
   "outputs": [
    {
     "data": {
      "image/png": "[encoded data removed]",
      "text/plain": [
       "<Figure size 640x480 with 1 Axes>"
      ]
     },
     "metadata": {},
     "output_type": "display_data"
    }
   ],
   "source": [
    "for tipo in meta['protocol'].unique():\n",
    "    sp = data.index[meta['protocol']==tipo]\n",
    "    l=[]\n",
    "    for x in sp:\n",
    "        idx = data.index.get_loc(x)\n",
    "        l.append(idx)\n",
    "    plt.plot(x_reduced[l,0],x_reduced[l,1], 'D' , label=tipo)\n",
    "plt.title(\"PCA\")\n",
    "plt.legend(loc='best', shadow=False, bbox_to_anchor=(1, 0., 0.5, 0.5))\n",
    "plt.show()\n",
    "\n",
    "\n",
    "\n",
    "        "
   ]
  },
  {
   "cell_type": "markdown",
   "metadata": {},
   "source": [
    "Apesar de se verificar que, por exemplo, entre os protocolos de 'sleep' e 'sleep deprived' ocorre uma separação sobretudo segundo o 1º PCA, esta não é tão evidente quanto se esperaria, já que existe bastante dispersão. Pode-se também identificar uma boa concentração das amostras de 'perturbed during active protocol', o que indicará padrões de ativação génica bastante semelhantes entre estas amostras, o que pode ser sinónimo da boa qualidade destas amostras. Apesar de uma maior separação no 2º PCA, as amostras de 'active period control' são também bastante próximas entre si. Para as amostras de 'sleep period control', a sua separação ocorre sobretudo segundo o 1º PCA, quase não se verificando dispersão no eixo dos y (2º PCA). Isto deve-se ao facto de os genes usados para construir o 1º PCA apresentarem valores mais díspares para estas amostras. Por fim, as amostras de 'unperturbed during active period' apresentam também agrupamento relativamente bom.\n",
    "\n",
    "Contudo, a grande dispersão dos restantes dados torna difícil a análise destes dados, pelo o que em seguida se experimentou fazer esta análise, separando as amostras segundo o protocolo utilizado mas também o tempo de exposição a este:"
   ]
  },
  {
   "cell_type": "code",
   "execution_count": 10,
   "metadata": {},
   "outputs": [
    {
     "data": {
      "image/png": "[encoded data removed]",
      "text/plain": [
       "<Figure size 640x480 with 1 Axes>"
      ]
     },
     "metadata": {},
     "output_type": "display_data"
    }
   ],
   "source": [
    "meta_data = meta\n",
    "meta_data['labels'] = meta_data['protocol'] + '-' + meta_data['time'].astype(str)\n",
    "for tipo in meta['labels'].unique():\n",
    "    sp = data.index[meta['labels']==tipo]\n",
    "    l=[]\n",
    "    for x in sp:\n",
    "        idx = data.index.get_loc(x)\n",
    "        l.append(idx)\n",
    "    plt.plot(x_reduced[l,0],x_reduced[l,1], 'D' , label=tipo)\n",
    "    i+=1\n",
    "plt.title(\"PCA\")\n",
    "plt.legend(loc='best', shadow=False, bbox_to_anchor=(1, 0., 0.5, 0.5))\n",
    "plt.show()"
   ]
  },
  {
   "cell_type": "markdown",
   "metadata": {},
   "source": [
    "Com este novo gráfico é possível identificar mais algumas tendências nos dados, sobretudo dentro dos grupos de 'sleep deprived' e 'sleep' que se encontravam agrupados sem atenção ao tempo de exposição no gráfico anterior. Assim, verifica-se que as amostras de 'sleep deprived-6h' estão também bem agupadas segundo o 2º PCA, apresentando apenas uma ligeira diferença nos valores dos genes que definem o 1º PCA. Pelo contrário, as amostras de 'sleep-6h' estão bem agrupadas segundo a combinação linear dos genes definidores do 1º PCA. Contudo, para as amostras de 'sleep deprived-2h' a dispersão é extremamente elevada.\n",
    "\n",
    "De uma forma geral, pode-se afirmar que a qualidade dos dados é boa, revelando-se alguns padrões nas amostras de cada protocolo + tempo de exposição. Apesar disso, a dispersão é algo confusa. Talvez esta análise pudesse ser um pouco mais conclusiva se se tivesse acesso a dados de mais amostras para cada tipo de protocolo onde se pudessem notar mais tendências dentro de cada um. "
   ]
  },
  {
   "cell_type": "markdown",
   "metadata": {},
   "source": [
    "**SECÇÃO 2**"
   ]
  },
  {
   "cell_type": "markdown",
   "metadata": {},
   "source": [
    "Análise estatística dos dados"
   ]
  },
  {
   "cell_type": "code",
   "execution_count": 11,
   "metadata": {},
   "outputs": [
    {
     "data": {
      "image/png": "[encoded data removed]",
      "text/plain": [
       "<Figure size 2500x1000 with 1 Axes>"
      ]
     },
     "metadata": {},
     "output_type": "display_data"
    }
   ],
   "source": [
    "Z = linkage(data, metric='cityblock')\n",
    "meta_data = meta\n",
    "meta_data['labels'] = meta_data['protocol'] + '-' + meta_data['time'].astype(str)\n",
    "\n",
    "# calculate full dendrogram\n",
    "plt.figure(figsize=(25, 10))\n",
    "dendrogram(\n",
    "    Z,\n",
    "    labels=list(meta_data['labels']),\n",
    "    leaf_rotation=90.,  # rotates the x axis labels\n",
    "    leaf_font_size=8.,  # font size for the x axis labels\n",
    ")\n",
    "\n",
    "plt.title('Hierarchical Clustering Dendrogram')\n",
    "plt.ylabel('distance')\n",
    "\n",
    "\n",
    "# Assignment of colors to labels: 'a' is red, 'b' is green, etc.\n",
    "label_colors = {'active period control-0 h': 'y', \n",
    "                'unperturbed during active period-4 h': 'g', \n",
    "                'perturbed during active period-4 h': 'm',\n",
    "                'sleep period control-0 h': 'b', \n",
    "                'sleep-2 h': 'r',\n",
    "                'sleep-4 h': 'r',\n",
    "                'sleep-6 h': 'r',\n",
    "                'sleep deprived-2 h': 'k',\n",
    "                'sleep deprived-4 h': 'k',\n",
    "                'sleep deprived-6 h': 'k',\n",
    "               }\n",
    "ax = plt.gca()\n",
    "xlbls = ax.get_xmajorticklabels()\n",
    "for lbl in xlbls:\n",
    "    lbl.set_color(label_colors[lbl.get_text()])\n",
    "\n",
    "plt.show()"
   ]
  },
  {
   "cell_type": "markdown",
   "metadata": {},
   "source": [
    "O cluster hierárquico permite retirar desde já algumas conclusões:\n",
    "\n",
    "    - as moscas que dormiram apresentam padrões de expressão mais próximos entre si, qualquer que seja o período, estando localizados na sua maioria no cluster verde.\n",
    "    \n",
    "    - as moscas perturbadas durante o período ativo apresentam igualmente padrões muito próximos entre si (cluster laranja), o que pode revelar que há mecanismos comuns que são ativados em qualquer mosca que seja perturbada (talvez algum complexo de \"fight or flight\".\n",
    "    \n",
    "    - as moscas privadas do sono apresentam expressões mais variadas, o que pode significar que o tipo de resposta nestas situações varia de organismo para organismo e ao longo do tempo a que estão sujeitos a esta imposição. Como a privação do sono costuma provocar uma desregulação das funções normais, essa desregulação pode ocorrer de forma diferente para cada um."
   ]
  },
  {
   "cell_type": "code",
   "execution_count": 12,
   "metadata": {},
   "outputs": [
    {
     "data": {
      "text/html": [
       "<div>\n",
       "<style scoped>\n",
       "    .dataframe tbody tr th:only-of-type {\n",
       "        vertical-align: middle;\n",
       "    }\n",
       "\n",
       "    .dataframe tbody tr th {\n",
       "        vertical-align: top;\n",
       "    }\n",
       "\n",
       "    .dataframe thead th {\n",
       "        text-align: right;\n",
       "    }\n",
       "</style>\n",
       "<table border=\"1\" class=\"dataframe\">\n",
       "  <thead>\n",
       "    <tr style=\"text-align: right;\">\n",
       "      <th>protocol</th>\n",
       "      <th>active period control</th>\n",
       "      <th>perturbed during active period</th>\n",
       "      <th>sleep</th>\n",
       "      <th>sleep deprived</th>\n",
       "      <th>sleep period control</th>\n",
       "      <th>unperturbed during active period</th>\n",
       "    </tr>\n",
       "    <tr>\n",
       "      <th>clusters</th>\n",
       "      <th></th>\n",
       "      <th></th>\n",
       "      <th></th>\n",
       "      <th></th>\n",
       "      <th></th>\n",
       "      <th></th>\n",
       "    </tr>\n",
       "  </thead>\n",
       "  <tbody>\n",
       "    <tr>\n",
       "      <th>0</th>\n",
       "      <td>0</td>\n",
       "      <td>3</td>\n",
       "      <td>1</td>\n",
       "      <td>3</td>\n",
       "      <td>1</td>\n",
       "      <td>1</td>\n",
       "    </tr>\n",
       "    <tr>\n",
       "      <th>1</th>\n",
       "      <td>0</td>\n",
       "      <td>0</td>\n",
       "      <td>6</td>\n",
       "      <td>3</td>\n",
       "      <td>2</td>\n",
       "      <td>0</td>\n",
       "    </tr>\n",
       "    <tr>\n",
       "      <th>2</th>\n",
       "      <td>0</td>\n",
       "      <td>0</td>\n",
       "      <td>2</td>\n",
       "      <td>3</td>\n",
       "      <td>0</td>\n",
       "      <td>1</td>\n",
       "    </tr>\n",
       "    <tr>\n",
       "      <th>3</th>\n",
       "      <td>3</td>\n",
       "      <td>0</td>\n",
       "      <td>0</td>\n",
       "      <td>0</td>\n",
       "      <td>0</td>\n",
       "      <td>1</td>\n",
       "    </tr>\n",
       "  </tbody>\n",
       "</table>\n",
       "</div>"
      ],
      "text/plain": [
       "protocol  active period control  perturbed during active period  sleep  \\\n",
       "clusters                                                                 \n",
       "0                             0                               3      1   \n",
       "1                             0                               0      6   \n",
       "2                             0                               0      2   \n",
       "3                             3                               0      0   \n",
       "\n",
       "protocol  sleep deprived  sleep period control  \\\n",
       "clusters                                         \n",
       "0                      3                     1   \n",
       "1                      3                     2   \n",
       "2                      3                     0   \n",
       "3                      0                     0   \n",
       "\n",
       "protocol  unperturbed during active period  \n",
       "clusters                                    \n",
       "0                                        1  \n",
       "1                                        0  \n",
       "2                                        1  \n",
       "3                                        1  "
      ]
     },
     "execution_count": 12,
     "metadata": {},
     "output_type": "execute_result"
    }
   ],
   "source": [
    "from sklearn.cluster import KMeans\n",
    "\n",
    "k=4\n",
    "kmeans = KMeans(n_clusters=k, max_iter=1000)\n",
    "kmeans.fit(data_scale)\n",
    "labels = kmeans.labels_\n",
    "centroids = kmeans.cluster_centers_\n",
    "\n",
    "pd.crosstab(labels, meta['protocol'], rownames=['clusters'] )"
   ]
  },
  {
   "cell_type": "markdown",
   "metadata": {},
   "source": [
    "Esta análise de cluster realizada por *kmeans* comprovam as conclusões anteriores, onde se verifica que as moscas que dormiram se concentram maioritariamente no cluster 1, as perturbadas no período ativo se encontram todas no cluster 2 e as que foram privadas de sono apresentam uma distribuição errática."
   ]
  },
  {
   "cell_type": "markdown",
   "metadata": {},
   "source": [
    "**SECÇÃO 3**"
   ]
  },
  {
   "cell_type": "markdown",
   "metadata": {},
   "source": [
    "A fase seguinte é a de implementação de modelos de *Machine Learning*. Para isso, é necessário dividir os dados em conjuntos de treino e de teste. O primeiro serve de input ao modelo para que este possa criar as suas relações e o segundo, como o nome indica, permite que essas relações sejam testadas e ver até que ponto foram eficazes a prever o ambiente a que as moscas haviam sido sujeitas."
   ]
  },
  {
   "cell_type": "code",
   "execution_count": 13,
   "metadata": {},
   "outputs": [
    {
     "name": "stdout",
     "output_type": "stream",
     "text": [
      "30\n",
      "TreinoX  (20, 14010)\n",
      "TesteX (10, 14010)\n",
      "TreinoY  (20,)\n",
      "TesteY (10,)\n"
     ]
    }
   ],
   "source": [
    "from sklearn.model_selection import train_test_split\n",
    "\n",
    "input_data = data.values\n",
    "#output_data = meta_data['labels'].values\n",
    "output_data = meta['protocol'].values\n",
    "input_sc = preprocessing.scale(input_data)\n",
    "print(len(input_sc))\n",
    "\n",
    "treinoX, testeX, treinoY, testeY = train_test_split(input_sc, output_data, train_size=2/3, random_state=0)\n",
    "print(\"TreinoX \", treinoX.shape)\n",
    "print(\"TesteX\", testeX.shape)\n",
    "print(\"TreinoY \", treinoY.shape)\n",
    "print(\"TesteY\", testeY.shape)"
   ]
  },
  {
   "cell_type": "markdown",
   "metadata": {},
   "source": [
    "K-neighbours"
   ]
  },
  {
   "cell_type": "code",
   "execution_count": 14,
   "metadata": {},
   "outputs": [
    {
     "name": "stdout",
     "output_type": "stream",
     "text": [
      "Accuracy:  0.3\n"
     ]
    }
   ],
   "source": [
    "knn = KNeighborsClassifier()\n",
    "knn.fit(treinoX, treinoY)\n",
    "preds_knn = knn.predict(testeX)\n",
    "\n",
    "from sklearn.metrics import accuracy_score\n",
    "print('Accuracy: ', accuracy_score(preds_knn, testeY))"
   ]
  },
  {
   "cell_type": "markdown",
   "metadata": {},
   "source": [
    "Modelo de Decision Tree"
   ]
  },
  {
   "cell_type": "code",
   "execution_count": 15,
   "metadata": {},
   "outputs": [
    {
     "name": "stdout",
     "output_type": "stream",
     "text": [
      "Accuracy:  0.3\n"
     ]
    }
   ],
   "source": [
    "from sklearn import tree\n",
    "from sklearn import tree\n",
    "\n",
    "tree_model = tree.DecisionTreeClassifier()\n",
    "tree_model = tree_model.fit(treinoX, treinoY)\n",
    "print('Accuracy: ', tree_model.score(testeX,  testeY))"
   ]
  },
  {
   "cell_type": "markdown",
   "metadata": {},
   "source": [
    "Regressao Logistica"
   ]
  },
  {
   "cell_type": "code",
   "execution_count": 16,
   "metadata": {},
   "outputs": [
    {
     "name": "stdout",
     "output_type": "stream",
     "text": [
      "Accuracy:  0.5\n"
     ]
    }
   ],
   "source": [
    "from sklearn import linear_model\n",
    "\n",
    "logistic = linear_model.LogisticRegression(C=1e5, solver = \"liblinear\", multi_class = \"auto\")\n",
    "logistic = logistic.fit(treinoX, treinoY)\n",
    "print('Accuracy: ', logistic.score(testeX,  testeY))"
   ]
  },
  {
   "cell_type": "markdown",
   "metadata": {},
   "source": [
    "SVM"
   ]
  },
  {
   "cell_type": "code",
   "execution_count": 17,
   "metadata": {},
   "outputs": [
    {
     "name": "stdout",
     "output_type": "stream",
     "text": [
      "Accuracy:  0.5\n"
     ]
    }
   ],
   "source": [
    "from sklearn import svm\n",
    "\n",
    "svm_model = svm.SVC(kernel='linear', C=1)\n",
    "svm_model = svm_model.fit(treinoX, treinoY)\n",
    "print('Accuracy: ', svm_model.score(testeX,  testeY))"
   ]
  },
  {
   "cell_type": "markdown",
   "metadata": {},
   "source": [
    "Naive Bayes"
   ]
  },
  {
   "cell_type": "code",
   "execution_count": 18,
   "metadata": {},
   "outputs": [
    {
     "name": "stdout",
     "output_type": "stream",
     "text": [
      "Accuracy:  0.2\n"
     ]
    }
   ],
   "source": [
    "from sklearn.naive_bayes import GaussianNB\n",
    "\n",
    "gnb_model = GaussianNB()\n",
    "gnb_model = gnb_model.fit(treinoX, treinoY)\n",
    "print('Accuracy: ', gnb_model.score(testeX,  testeY))"
   ]
  },
  {
   "cell_type": "markdown",
   "metadata": {},
   "source": [
    "Os modelos não conseguiram prever de forma eficaz o tipo de ambiente ('protocol') a que as moscas foram sujeitas, como se pode verificar pelos valores de 'accuracy' obtidos para cada um dos 5 modelos aplicados. O ideal seria conseguir prever com exatidão o conjunto das duas colunas significativas dos meta-dados: 'protocol' e 'time'. Ou seja, deviam conseguir prever o ambiente a que as moscas haviam sido sujeitas bem como a duração dessa exposição. Contudo, se os valores de 'accuracy' foram já tão baixos a prever apenas o 'protocol', seriam ainda piores a prever a combinação destas duas variáveis.\n",
    "\n",
    "Isto pode dever-se ao número muito baixo de amostras disponíveis (apenas 30). Isto faz com que o subconjunto de treino seja muito pequeno (apenas 20, já que se dividiu o dataset em 2/3 para teste e 1/3 para treino), deixando os modelos com pouca informação para estabelecer as suas relações de forma assertiva.\n",
    "\n",
    "Ainda assim, fez-se uma análise de *cross validation* para tentar perceber qual dos modelos foi mais bem-sucedido:"
   ]
  },
  {
   "cell_type": "markdown",
   "metadata": {},
   "source": [
    "K-neighbours"
   ]
  },
  {
   "cell_type": "code",
   "execution_count": 19,
   "metadata": {},
   "outputs": [
    {
     "name": "stdout",
     "output_type": "stream",
     "text": [
      "knn [0.5 0.3 0.4]\n",
      "Média:  0.4000000000000001\n"
     ]
    }
   ],
   "source": [
    "from sklearn.model_selection import cross_val_score\n",
    "\n",
    "scores_knn = cross_val_score(estimator = knn, X= input_sc, y= output_data, cv= 3)\n",
    "print(\"knn\", scores_knn)\n",
    "print('Média: ', scores_knn.mean())"
   ]
  },
  {
   "cell_type": "markdown",
   "metadata": {},
   "source": [
    "Decision Tree"
   ]
  },
  {
   "cell_type": "code",
   "execution_count": 20,
   "metadata": {},
   "outputs": [
    {
     "name": "stdout",
     "output_type": "stream",
     "text": [
      "tree_model [0.3 0.4 0.7]\n",
      "Média:  0.4666666666666666\n"
     ]
    }
   ],
   "source": [
    "scores_tree_model = cross_val_score(estimator = tree_model, X= input_sc, y= output_data, cv= 3)\n",
    "print(\"tree_model\", scores_tree_model)\n",
    "print('Média: ', scores_tree_model.mean())"
   ]
  },
  {
   "cell_type": "markdown",
   "metadata": {},
   "source": [
    "Regressão Logística"
   ]
  },
  {
   "cell_type": "code",
   "execution_count": 21,
   "metadata": {},
   "outputs": [
    {
     "name": "stdout",
     "output_type": "stream",
     "text": [
      "logistic [0.5 0.5 0.3]\n",
      "Média:  0.43333333333333335\n"
     ]
    }
   ],
   "source": [
    "scores_logistic = cross_val_score(estimator = logistic, X= input_sc, y= output_data, cv= 3)\n",
    "print(\"logistic\", scores_logistic)\n",
    "print('Média: ', scores_logistic.mean())"
   ]
  },
  {
   "cell_type": "markdown",
   "metadata": {},
   "source": [
    "SVM"
   ]
  },
  {
   "cell_type": "code",
   "execution_count": 22,
   "metadata": {},
   "outputs": [
    {
     "name": "stdout",
     "output_type": "stream",
     "text": [
      "svm_model [0.6 0.5 0.7]\n",
      "Média:  0.6\n"
     ]
    }
   ],
   "source": [
    "scores_svm = cross_val_score(estimator = svm_model, X= input_sc, y= output_data, cv= 3)\n",
    "print(\"svm_model\", scores_svm)\n",
    "print('Média: ', scores_svm.mean())"
   ]
  },
  {
   "cell_type": "markdown",
   "metadata": {},
   "source": [
    "Naive Bayes"
   ]
  },
  {
   "cell_type": "code",
   "execution_count": 23,
   "metadata": {},
   "outputs": [
    {
     "name": "stdout",
     "output_type": "stream",
     "text": [
      "gnb_model [0.5 0.2 0.6]\n",
      "Média:  0.4333333333333333\n"
     ]
    }
   ],
   "source": [
    "scores_gnb_model = cross_val_score(estimator = gnb_model, X= input_sc, y= output_data, cv= 3)\n",
    "print(\"gnb_model\", scores_gnb_model)\n",
    "print('Média: ', scores_gnb_model.mean())"
   ]
  },
  {
   "cell_type": "code",
   "execution_count": 24,
   "metadata": {},
   "outputs": [
    {
     "name": "stdout",
     "output_type": "stream",
     "text": [
      "                Modelo  Accuracy  Média CV\n",
      "0         K-Neighbours       0.3  0.400000\n",
      "1        Decision Tree       0.3  0.466667\n",
      "2  Regressao Logistica       0.5  0.433333\n",
      "3                  SVM       0.5  0.600000\n",
      "4          Naive Bayes       0.2  0.433333\n"
     ]
    }
   ],
   "source": [
    "tab = {'Modelo': ['K-Neighbours', 'Decision Tree', 'Regressao Logistica', 'SVM', 'Naive Bayes'],\n",
    "        'Accuracy': [accuracy_score(preds_knn, testeY), tree_model.score(testeX,  testeY), logistic.score(testeX,  testeY), svm_model.score(testeX,  testeY), gnb_model.score(testeX,  testeY)],\n",
    "        'Média CV': [scores_knn.mean(), scores_tree_model.mean(), scores_logistic.mean(), scores_svm.mean(), scores_gnb_model.mean()]}\n",
    "tabela = pd.DataFrame(tab)\n",
    "\n",
    "# Print the dataframe as a table\n",
    "print(tabela.to_string())"
   ]
  },
  {
   "cell_type": "markdown",
   "metadata": {},
   "source": [
    "Através desta análise, percebe-se que apesar das limitações, o modelo que se portou melhor foi o SVM.\n",
    "\n",
    "Como aquilo que se pretende ultimamente com o modelo é conseguir prever se a mosca esteve num período de sono ou de privação deste, e de forma a melhor a 'accuracy' dos modelos, decidiu-se remover as 'samples' das moscas usadas para estudar o período ativo, mantendo apenas as de controlo de sono, sono e privação do sono. Desta forma os dados utilizados para treino terão maior percentagem de informação relevante par as relações que se quer estabelecer."
   ]
  },
  {
   "cell_type": "code",
   "execution_count": 25,
   "metadata": {
    "scrolled": false
   },
   "outputs": [],
   "source": [
    "# Junção das duas bases de dados através do número da amostra\n",
    "#data=data_reduced.transpose()\n",
    "merged = pd.merge(data, meta, left_index=True, right_on='sample')\n",
    "\n",
    "# Selecionar as instâncias que têm a palavra 'active' no atributo 'protocol'\n",
    "active_rows = merged[merged['protocol'].str.contains('active')]\n",
    "#print(active_rows)\n",
    "\n",
    "# Eliminar as instâncias selecionadas atrás dos dados e metadados\n",
    "data = data[~data.index.isin(active_rows.index)]\n",
    "meta = meta[~meta.index.isin(active_rows['sample'])]\n"
   ]
  },
  {
   "cell_type": "code",
   "execution_count": 26,
   "metadata": {},
   "outputs": [
    {
     "name": "stdout",
     "output_type": "stream",
     "text": [
      "21\n",
      "TreinoX  (14, 14010)\n",
      "TesteX (7, 14010)\n",
      "TreinoY  (14,)\n",
      "TesteY (7,)\n"
     ]
    }
   ],
   "source": [
    "#Definição dos conjuntos de treino e teste com os novos dados e metadados\n",
    "\n",
    "input_data = data.values\n",
    "#output_data = meta_data['labels'].values\n",
    "output_data = meta['protocol'].values\n",
    "input_sc = preprocessing.scale(input_data)\n",
    "print(len(input_sc))\n",
    "\n",
    "treinoX, testeX, treinoY, testeY = train_test_split(input_sc, output_data, train_size=2/3, random_state=0)\n",
    "print(\"TreinoX \", treinoX.shape)\n",
    "print(\"TesteX\", testeX.shape)\n",
    "print(\"TreinoY \", treinoY.shape)\n",
    "print(\"TesteY\", testeY.shape)"
   ]
  },
  {
   "cell_type": "markdown",
   "metadata": {},
   "source": [
    "K-Neighbours"
   ]
  },
  {
   "cell_type": "code",
   "execution_count": 27,
   "metadata": {},
   "outputs": [
    {
     "name": "stdout",
     "output_type": "stream",
     "text": [
      "Accuracy:  0.7142857142857143\n",
      "knn [0.57142857 0.28571429 0.57142857]\n",
      "Média:  0.4761904761904761\n"
     ]
    }
   ],
   "source": [
    "knn = KNeighborsClassifier()\n",
    "knn.fit(treinoX, treinoY)\n",
    "preds_knn = knn.predict(testeX)\n",
    "from sklearn.metrics import accuracy_score\n",
    "print('Accuracy: ', accuracy_score(preds_knn, testeY))\n",
    "      \n",
    "scores_knn = cross_val_score(estimator = knn, X= input_sc, y= output_data, cv= 3)\n",
    "print(\"knn\", scores_knn)\n",
    "print('Média: ', scores_knn.mean())"
   ]
  },
  {
   "cell_type": "markdown",
   "metadata": {},
   "source": [
    "Modelo de Decision Tree"
   ]
  },
  {
   "cell_type": "code",
   "execution_count": 28,
   "metadata": {},
   "outputs": [
    {
     "name": "stdout",
     "output_type": "stream",
     "text": [
      "Accuracy:  0.2857142857142857\n",
      "tree_model [0.57142857 0.85714286 0.85714286]\n",
      "Média:  0.7619047619047619\n"
     ]
    }
   ],
   "source": [
    "from sklearn import tree\n",
    "\n",
    "tree_model = tree.DecisionTreeClassifier()\n",
    "tree_model = tree_model.fit(treinoX, treinoY)\n",
    "print('Accuracy: ', tree_model.score(testeX,  testeY))\n",
    "\n",
    "scores_tree_model = cross_val_score(estimator = tree_model, X= input_sc, y= output_data, cv= 3)\n",
    "print(\"tree_model\", scores_tree_model)\n",
    "print('Média: ', scores_tree_model.mean())"
   ]
  },
  {
   "cell_type": "markdown",
   "metadata": {},
   "source": [
    "Regressao Logistica"
   ]
  },
  {
   "cell_type": "code",
   "execution_count": 29,
   "metadata": {},
   "outputs": [
    {
     "name": "stdout",
     "output_type": "stream",
     "text": [
      "Accuracy:  0.2857142857142857\n",
      "logistic [0.28571429 0.14285714 0.14285714]\n",
      "Média:  0.19047619047619047\n"
     ]
    }
   ],
   "source": [
    "from sklearn import linear_model\n",
    "\n",
    "logistic = linear_model.LogisticRegression(C=1e5, solver = \"liblinear\", multi_class = \"auto\")\n",
    "logistic = logistic.fit(treinoX, treinoY)\n",
    "print('Accuracy: ', logistic.score(testeX,  testeY))\n",
    "\n",
    "scores_logistic = cross_val_score(estimator = logistic, X= input_sc, y= output_data, cv= 3)\n",
    "print(\"logistic\", scores_logistic)\n",
    "print('Média: ', scores_logistic.mean())"
   ]
  },
  {
   "cell_type": "markdown",
   "metadata": {},
   "source": [
    "SVM"
   ]
  },
  {
   "cell_type": "code",
   "execution_count": 30,
   "metadata": {},
   "outputs": [
    {
     "name": "stdout",
     "output_type": "stream",
     "text": [
      "Accuracy:  0.8571428571428571\n",
      "svm_model [0.57142857 0.42857143 0.85714286]\n",
      "Média:  0.6190476190476191\n"
     ]
    }
   ],
   "source": [
    "from sklearn import svm\n",
    "\n",
    "svm_model = svm.SVC(kernel='linear', C=1)\n",
    "svm_model = svm_model.fit(treinoX, treinoY)\n",
    "print('Accuracy: ', svm_model.score(testeX,  testeY))\n",
    "\n",
    "scores_svm = cross_val_score(estimator = svm_model, X= input_sc, y= output_data, cv= 3)\n",
    "print(\"svm_model\", scores_svm)\n",
    "print('Média: ', scores_svm.mean())"
   ]
  },
  {
   "cell_type": "markdown",
   "metadata": {},
   "source": [
    "Naive Bayes"
   ]
  },
  {
   "cell_type": "code",
   "execution_count": 31,
   "metadata": {},
   "outputs": [
    {
     "name": "stdout",
     "output_type": "stream",
     "text": [
      "Accuracy:  0.5714285714285714\n",
      "gnb_model [0.71428571 0.28571429 0.85714286]\n",
      "Média:  0.6190476190476191\n"
     ]
    }
   ],
   "source": [
    "from sklearn.naive_bayes import GaussianNB\n",
    "\n",
    "gnb_model = GaussianNB()\n",
    "gnb_model = gnb_model.fit(treinoX, treinoY)\n",
    "print('Accuracy: ', gnb_model.score(testeX,  testeY))\n",
    "\n",
    "scores_gnb_model = cross_val_score(estimator = gnb_model, X= input_sc, y= output_data, cv= 3)\n",
    "print(\"gnb_model\", scores_gnb_model)\n",
    "print('Média: ', scores_gnb_model.mean())"
   ]
  },
  {
   "cell_type": "code",
   "execution_count": 32,
   "metadata": {
    "scrolled": true
   },
   "outputs": [
    {
     "name": "stdout",
     "output_type": "stream",
     "text": [
      "                Modelo  Accuracy  Média CV\n",
      "0         K-Neighbours  0.714286  0.476190\n",
      "1        Decision Tree  0.285714  0.761905\n",
      "2  Regressao Logistica  0.285714  0.190476\n",
      "3                  SVM  0.857143  0.619048\n",
      "4          Naive Bayes  0.571429  0.619048\n"
     ]
    }
   ],
   "source": [
    "tab = {'Modelo': ['K-Neighbours', 'Decision Tree', 'Regressao Logistica', 'SVM', 'Naive Bayes'],\n",
    "        'Accuracy': [accuracy_score(preds_knn, testeY), tree_model.score(testeX,  testeY), logistic.score(testeX,  testeY), svm_model.score(testeX,  testeY), gnb_model.score(testeX,  testeY)],\n",
    "        'Média CV': [scores_knn.mean(), scores_tree_model.mean(), scores_logistic.mean(), scores_svm.mean(), scores_gnb_model.mean()]}\n",
    "tabela = pd.DataFrame(tab)\n",
    "\n",
    "# Print the dataframe as a table\n",
    "print(tabela.to_string())"
   ]
  },
  {
   "cell_type": "markdown",
   "metadata": {},
   "source": [
    "Verifica-se assim que os modelos conseguem ser mais eficazes com o novo dataset. Isto deve-se também ao facto de agora apenas terem de prever entre 3 hipóteses, o que reduz a probabilidade de erro. De qualquer forma, considera-se estes modelos mais interessantes para a aplicação prática do problema em estudo."
   ]
  },
  {
   "cell_type": "markdown",
   "metadata": {},
   "source": [
    "**Filtro de Variância**\n"
   ]
  },
  {
   "cell_type": "markdown",
   "metadata": {},
   "source": [
    "Como foi referido ao longo deste estudo, um dos principais problemas, para além do baixo número de amostras, é o de o dataset apresentar uma dimensionalidade extremamente elevada. Isto pode reduzir a qualidade dos modelos gerados e a sua aplicabilidade futura, pela procura de relações na expressão de genes pouco impactados pela privação do sono. Assim, no passo seguinte, pretendeu-se reduzir o número de genes em estudo, gerando-se de novo os modelos para estudar a eficácia deste processamento."
   ]
  },
  {
   "cell_type": "code",
   "execution_count": 33,
   "metadata": {
    "scrolled": true
   },
   "outputs": [
    {
     "name": "stdout",
     "output_type": "stream",
     "text": [
      "    141218_at  141233_at  141315_at  141374_at  141379_at  141383_at  \\\n",
      "0     6.49789    2.64825    7.11748    4.55974    3.26292    5.70002   \n",
      "1     7.00378    2.71240    6.99373    6.43923    3.84511    6.13054   \n",
      "2     6.18008    2.60674    6.98182    4.37086    3.18302    5.30238   \n",
      "3     6.52619    2.67694    6.69505    4.26992    2.94314    5.85348   \n",
      "4     6.09687    2.81242    7.08263    4.63868    3.14088    5.54609   \n",
      "5     6.83792    2.83341    6.85067    4.16463    3.09135    5.82867   \n",
      "6     6.89410    3.00848    6.32468    4.22310    2.99197    5.59773   \n",
      "7     6.52430    3.02307    6.66466    4.85454    4.07126    5.33117   \n",
      "8     7.08327    2.82539    6.34231    4.69559    2.97382    5.98349   \n",
      "9     7.10943    2.76708    6.30991    5.47565    3.04488    5.68891   \n",
      "10    6.48753    2.78932    6.30224    4.07004    3.25813    5.65806   \n",
      "11    7.14977    2.57728    6.05867    4.04808    3.06535    5.94533   \n",
      "12    6.70218    3.26836    6.52347    4.74540    3.31687    5.49873   \n",
      "13    5.30594    3.60126    7.61275    5.13644    3.12197    4.43536   \n",
      "14    6.49369    4.69233    7.01945    5.34463    4.38083    5.84015   \n",
      "15    6.76091    3.16500    6.79339    5.32378    3.90176    5.59209   \n",
      "16    6.74175    3.24266    7.07223    5.71569    3.06077    5.79730   \n",
      "17    6.69731    4.24329    7.70061    6.85154    3.20230    5.78660   \n",
      "18    6.06259    3.42929    6.83745    4.56394    3.01953    5.52948   \n",
      "19    6.35813    3.35953    7.30223    5.41574    3.21671    5.78925   \n",
      "20    5.81398    3.23312    7.12557    5.75752    3.00465    5.26317   \n",
      "\n",
      "    141472_at  141658_at  141933_at  142128_at  ...  155036_at  155037_at  \\\n",
      "0     6.57810    4.83638    6.97458    4.25103  ...    6.28320    7.01462   \n",
      "1     7.09097    4.90915    7.23742    4.34780  ...    6.52362    7.24161   \n",
      "2     6.64389    4.97703    7.11997    3.98261  ...    5.69952    6.49641   \n",
      "3     6.71604    4.77354    7.46395    4.18439  ...    6.34875    6.77980   \n",
      "4     6.45755    4.88046    7.66918    3.55153  ...    6.06661    6.79287   \n",
      "5     7.13746    4.94136    7.22969    4.37928  ...    6.27547    6.82793   \n",
      "6     7.16046    5.34013    6.78687    4.47837  ...    6.14020    7.11570   \n",
      "7     7.05515    5.25143    6.56053    4.33408  ...    5.60985    7.01523   \n",
      "8     7.28998    5.20179    7.13869    4.44219  ...    6.21063    7.22945   \n",
      "9     7.40224    4.96982    7.26963    4.73145  ...    6.37177    7.04124   \n",
      "10    6.67894    4.87757    7.53655    4.21439  ...    6.04541    6.84687   \n",
      "11    7.23206    5.11950    7.00354    4.88381  ...    6.11476    7.34072   \n",
      "12    6.03065    5.28714    7.63704    4.28453  ...    5.18791    7.09795   \n",
      "13    7.38507    5.88949    7.36331    3.51496  ...    5.67699    5.65665   \n",
      "14    6.65228    5.18728    7.03902    4.55960  ...    5.63173    7.21179   \n",
      "15    7.07427    6.32838    6.77803    4.20332  ...    5.19148    7.38788   \n",
      "16    6.13531    5.22720    6.86126    4.38945  ...    5.68566    7.13653   \n",
      "17    7.25416    6.05281    6.52486    4.42457  ...    5.94109    7.11525   \n",
      "18    6.24220    5.40543    7.43860    4.04051  ...    5.33946    7.02362   \n",
      "19    6.46226    5.64428    6.90263    4.01405  ...    5.31255    7.11741   \n",
      "20    6.60850    5.26400    6.58392    3.72091  ...    5.06273    6.46966   \n",
      "\n",
      "    AFFX-BioB-3_at  AFFX-BioB-M_at  AFFX-BioC-3_at  AFFX-BioC-5_at  \\\n",
      "0          6.18518         6.42704         6.83087         7.27625   \n",
      "1          6.38784         6.72637         6.94380         7.43542   \n",
      "2          6.80265         7.02228         7.56561         7.92290   \n",
      "3          6.43579         6.72530         7.07163         7.52439   \n",
      "4          7.04073         7.23015         7.60236         8.08572   \n",
      "5          6.26376         6.57636         6.95073         7.33923   \n",
      "6          5.43442         5.65691         6.19848         6.35464   \n",
      "7          5.77561         5.94958         6.48007         6.93244   \n",
      "8          6.04661         6.52101         6.77698         7.24504   \n",
      "9          6.00658         6.20445         6.56922         7.16764   \n",
      "10         6.38121         6.59284         6.88257         7.40770   \n",
      "11         6.27231         6.58671         6.90310         7.37460   \n",
      "12         6.21484         6.35371         6.92000         7.23005   \n",
      "13         5.98118         6.22983         6.78438         7.13995   \n",
      "14         5.89542         6.23374         6.60873         7.08414   \n",
      "15         5.75751         6.01778         6.52283         6.90308   \n",
      "16         6.10040         6.33568         6.63492         7.07776   \n",
      "17         5.98463         6.13497         6.58571         7.04027   \n",
      "18         6.33657         6.63596         7.08682         7.46717   \n",
      "19         5.97957         6.25066         6.58203         7.05930   \n",
      "20         5.84961         6.10580         6.47699         6.98012   \n",
      "\n",
      "    AFFX-BioDn-5_at  AFFX-Dros-18S_rRNA_3_at  AFFX-Dros-18S_rRNA_M_at  \\\n",
      "0           7.40615                  4.45944                  6.00655   \n",
      "1           7.66592                  4.26798                  6.17862   \n",
      "2           8.08698                  4.90060                  7.13255   \n",
      "3           7.70346                  4.73900                  5.87165   \n",
      "4           8.18946                  6.08691                  7.71489   \n",
      "5           7.55500                  4.10744                  5.72890   \n",
      "6           6.57451                  3.92675                  4.85286   \n",
      "7           6.90475                  4.14436                  5.28207   \n",
      "8           7.30703                  4.40275                  5.77820   \n",
      "9           7.31834                  3.83252                  4.65235   \n",
      "10          7.50229                  4.03039                  4.94376   \n",
      "11          7.47366                  3.82374                  5.00384   \n",
      "12          7.23725                  3.68782                  4.18480   \n",
      "13          7.07654                  4.64035                  4.64785   \n",
      "14          7.14118                  4.19886                  5.68860   \n",
      "15          6.92548                  3.65456                  4.69990   \n",
      "16          7.33408                  4.89276                  7.27372   \n",
      "17          7.20894                  4.39491                  6.69579   \n",
      "18          7.52646                  3.88555                  5.00680   \n",
      "19          7.17508                  4.15723                  5.31490   \n",
      "20          7.03148                  5.06394                  6.82784   \n",
      "\n",
      "    AFFX-Dros-eIF-4a_5_at  \n",
      "0                 9.28451  \n",
      "1                 9.13762  \n",
      "2                 9.02746  \n",
      "3                 9.06015  \n",
      "4                 8.18568  \n",
      "5                 9.11628  \n",
      "6                 9.63056  \n",
      "7                 9.32172  \n",
      "8                 9.12748  \n",
      "9                 9.16732  \n",
      "10                8.78034  \n",
      "11                9.27692  \n",
      "12                8.94195  \n",
      "13                7.65822  \n",
      "14                9.30419  \n",
      "15                8.88459  \n",
      "16                9.54162  \n",
      "17                9.20500  \n",
      "18                8.51606  \n",
      "19                8.69853  \n",
      "20                8.82611  \n",
      "\n",
      "[21 rows x 327 columns]\n",
      "Dados originais: (21, 14010)\n",
      "Dados após filtragem de variância: (21, 327)\n",
      "2.3340471092077086\n"
     ]
    }
   ],
   "source": [
    "variances=data.var(axis=0)\n",
    "meanvar=variances.mean()\n",
    "sel=VarianceThreshold(threshold=meanvar*4)\n",
    "filt = sel.fit_transform(data)\n",
    "filt_df = pd.DataFrame(filt, columns=data.columns[sel.get_support()])\n",
    "print(filt_df)\n",
    "print(\"Dados originais:\",data.shape)\n",
    "print(\"Dados após filtragem de variância:\",filt_df.shape)\n",
    "per = (327/14010)*100\n",
    "print(per)"
   ]
  },
  {
   "cell_type": "markdown",
   "metadata": {},
   "source": [
    "Dos resultados obtidos a partir do filtro VarianceThreshold, deduz-se que dos 14010 genes presentes no dataset, apenas uma pequena parte dos mesmos possui diferenças significativas entre as diferentes amostras. Reduz-se assim a análise para apenas 327 genes (2.34% do número original)."
   ]
  },
  {
   "cell_type": "code",
   "execution_count": 34,
   "metadata": {
    "scrolled": false
   },
   "outputs": [
    {
     "name": "stdout",
     "output_type": "stream",
     "text": [
      "21\n",
      "TreinoX  (14, 327)\n",
      "TesteX (7, 327)\n",
      "TreinoY  (14,)\n",
      "TesteY (7,)\n",
      "                Modelo  Accuracy  Média CV\n",
      "0         K-Neighbours  0.857143  0.714286\n",
      "1        Decision Tree  0.857143  0.714286\n",
      "2  Regressao Logistica  0.571429  0.571429\n",
      "3                  SVM  0.714286  0.809524\n",
      "4          Naive Bayes  0.714286  0.714286\n"
     ]
    }
   ],
   "source": [
    "#Definição dos conjuntos de treino e teste com os novos dados e metadados\n",
    "\n",
    "input_data = filt_df.values\n",
    "#output_data = meta_data['labels'].values\n",
    "output_data = meta['protocol'].values\n",
    "input_sc = preprocessing.scale(input_data)\n",
    "print(len(input_sc))\n",
    "\n",
    "treinoX, testeX, treinoY, testeY = train_test_split(input_sc, output_data, train_size=2/3, random_state=0)\n",
    "print(\"TreinoX \", treinoX.shape)\n",
    "print(\"TesteX\", testeX.shape)\n",
    "print(\"TreinoY \", treinoY.shape)\n",
    "print(\"TesteY\", testeY.shape)\n",
    "\n",
    "#K-Neighbours\n",
    "knn = KNeighborsClassifier()\n",
    "knn.fit(treinoX, treinoY)\n",
    "preds_knn = knn.predict(testeX)\n",
    "      \n",
    "scores_knn = cross_val_score(estimator = knn, X= input_sc, y= output_data, cv= 3)\n",
    "\n",
    "#Decision Tree\n",
    "tree_model = tree.DecisionTreeClassifier()\n",
    "tree_model = tree_model.fit(treinoX, treinoY)\n",
    "\n",
    "scores_tree_model = cross_val_score(estimator = tree_model, X= input_sc, y= output_data, cv= 3)\n",
    "\n",
    "#Regressão Logística\n",
    "logistic = linear_model.LogisticRegression(C=1e5, solver = \"liblinear\", multi_class = \"auto\")\n",
    "logistic = logistic.fit(treinoX, treinoY)\n",
    "\n",
    "scores_logistic = cross_val_score(estimator = logistic, X= input_sc, y= output_data, cv= 3)\n",
    "\n",
    "#SVM\n",
    "svm_model = svm.SVC(kernel='linear', C=1)\n",
    "svm_model = svm_model.fit(treinoX, treinoY)\n",
    "\n",
    "scores_svm = cross_val_score(estimator = svm_model, X= input_sc, y= output_data, cv= 3)\n",
    "\n",
    "\n",
    "#Naive Bayes\n",
    "gnb_model = GaussianNB()\n",
    "gnb_model = gnb_model.fit(treinoX, treinoY)\n",
    "\n",
    "scores_gnb_model = cross_val_score(estimator = gnb_model, X= input_sc, y= output_data, cv= 3)\n",
    "\n",
    "#Tabela\n",
    "tab = {'Modelo': ['K-Neighbours', 'Decision Tree', 'Regressao Logistica', 'SVM', 'Naive Bayes'],\n",
    "        'Accuracy': [accuracy_score(preds_knn, testeY), tree_model.score(testeX,  testeY), logistic.score(testeX,  testeY), svm_model.score(testeX,  testeY), gnb_model.score(testeX,  testeY)],\n",
    "        'Média CV': [scores_knn.mean(), scores_tree_model.mean(), scores_logistic.mean(), scores_svm.mean(), scores_gnb_model.mean()]}\n",
    "tabela = pd.DataFrame(tab)\n",
    "\n",
    "# Print the dataframe as a table\n",
    "print(tabela.to_string())"
   ]
  },
  {
   "cell_type": "markdown",
   "metadata": {},
   "source": [
    "Antes de mais, note-se que a redução da dimensionalidade dos dados foi aplicada ao dataset já processado para incluir apenas as amostras relativas aos protocolos de controlo de sono, sono e privação do sono.\n",
    "\n",
    "Como se pode ver, pela comparação com a tabela dos resultados de 'accuracy' e 'cross validation' dos modelos gerados com o dataset com o número de atributos original, a redução da dimensionalidade permite a criação de modelos com mais qualidade na predição do protocolo aplicado. De uma forma geral, todos os modelos estudados melhoram a sua performance após a eliminação dos genes menos significativos. Isto, tal como já referido anteriormente, deve-se ao facto de os modelos terem apenas de se focar naqueles genes cuja expressão é realmente mais afetada pela privação do sono e evitando a criação de relações redundantes e pouco explicativas."
   ]
  },
  {
   "cell_type": "markdown",
   "metadata": {},
   "source": [
    "**Conclusão**"
   ]
  },
  {
   "cell_type": "markdown",
   "metadata": {},
   "source": [
    "Devido à baixa amostragem do estudo disponibilizada no dataset, a geração de modelos de machine learning revelou-se bastante difícil. As boas 'accuracies' alcançadas na segunda fase de criação dos modelos foram apenas alcançáveis reduzindo o número de resultados possíveis, sendo que nesta o número de amostras para treino e teste dos modelos foi ainda menor. Isto corresponde a uma manipulação excessiva dos dados e que pode acabar por não traduzir de forma correta a realidade.\n",
    "\n",
    "Por estas razões, o foco do trabalho focou-se sobretudo no \"Data Processing\", onde o principal objetivo foi a redução sustentável da grande dimensionalidade da base de dados. Pretendeu-se reduzir a análise aos genes que realmente são mais influenciados pelo sono ou ausência deste, tendo-se verificado que é possível gerar bons modelos com apenas 2.34% dos genes inicialmente estudados."
   ]
  }
 ],
 "metadata": {
  "kernelspec": {
   "display_name": "Python 3 (ipykernel)",
   "language": "python",
   "name": "python3"
  },
  "language_info": {
   "codemirror_mode": {
    "name": "ipython",
    "version": 3
   },
   "file_extension": ".py",
   "mimetype": "text/x-python",
   "name": "python",
   "nbconvert_exporter": "python",
   "pygments_lexer": "ipython3",
   "version": "3.9.12"
  },
  "vscode": {
   "interpreter": {
    "hash": "a8a2f7cb0115a75d3c52345e7e5e6afc0f889fdd68645118a4c4ccba629d222c"
   }
  }
 },
 "nbformat": 4,
 "nbformat_minor": 2
}
