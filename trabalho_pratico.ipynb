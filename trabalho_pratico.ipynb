{
 "cells": [
  {
   "cell_type": "code",
   "execution_count": 306,
   "metadata": {},
   "outputs": [],
   "source": [
    "import pandas as pd\n",
    "from sklearn import preprocessing\n",
    "from sklearn.decomposition import PCA\n",
    "import matplotlib.pyplot as plt\n",
    "import numpy as np\n",
    "from sklearn.neighbors import KNeighborsClassifier\n",
    "from scipy.cluster.hierarchy import dendrogram, linkage"
   ]
  },
  {
   "cell_type": "code",
   "execution_count": 307,
   "metadata": {},
   "outputs": [],
   "source": [
    "# Upload dos dados e metadados\n",
    "datai = pd.read_csv(\"gds1686.csv\", sep=',', index_col = 0)\n",
    "meta = pd.read_csv(\"meta-gds1686.csv\", sep = \",\", index_col = 0)"
   ]
  },
  {
   "cell_type": "code",
   "execution_count": 308,
   "metadata": {},
   "outputs": [
    {
     "name": "stdout",
     "output_type": "stream",
     "text": [
      "Dados:  (14010, 30)\n",
      "Metadados:  (30, 4)\n"
     ]
    }
   ],
   "source": [
    "# Contagem do número de atributos e instâncias dos dados e metadados\n",
    "print('Dados: ', datai.values.shape)\n",
    "print('Metadados: ', meta.values.shape)"
   ]
  },
  {
   "cell_type": "markdown",
   "metadata": {},
   "source": [
    "**Dados e metadados**\n",
    "\n",
    "Os dados são compostos por 14010 instâncias (linhas) e 30 atributos (colunas).\n",
    "Os metadados são compostos por 30 instâncias e 4 atributos.\n",
    "\n",
    "Criou-se então a matriz de dados transposta, de forma a ter o mesmo número de atributos nos dados e metadados. As 30 instâncias correspondem às 30 moscas, submetidas às medições dos níveis de expressão dos genes nos diferentes ambientes. Os 14010 atributos são os genes estudados."
   ]
  },
  {
   "cell_type": "code",
   "execution_count": 309,
   "metadata": {
    "scrolled": false
   },
   "outputs": [
    {
     "name": "stdout",
     "output_type": "stream",
     "text": [
      "          141200_at  141201_at  141202_at  141203_at  141204_at  141205_at  \\\n",
      "GSM95424    3.77628    5.64283    6.80354    5.42622    4.58124    5.94997   \n",
      "GSM95425    3.44458    5.47795    7.01271    5.53965    4.55277    5.94535   \n",
      "GSM95444    3.76067    5.53370    6.81637    5.38007    4.45829    5.97233   \n",
      "GSM95324    3.38473    5.58603    6.66803    5.26991    4.45801    5.62635   \n",
      "GSM95421    3.57696    5.60629    6.73312    5.18558    4.56932    5.79158   \n",
      "GSM95423    3.71310    5.57885    6.96012    5.36280    4.45476    5.75519   \n",
      "GSM95325    3.59374    5.60380    6.55975    5.06871    4.47072    5.63485   \n",
      "GSM95420    3.68243    5.40856    6.91156    5.31143    4.60259    5.84344   \n",
      "GSM95422    3.71822    5.53217    6.53144    5.24742    4.68283    5.89039   \n",
      "GSM95290    3.95261    5.55998    7.19880    5.51060    4.74907    6.27263   \n",
      "GSM95292    3.67817    5.37299    7.10604    5.55732    4.73757    6.38052   \n",
      "GSM95293    3.57283    5.60045    6.99170    4.92440    4.60691    5.85537   \n",
      "GSM95262    3.59273    5.54066    7.20713    5.34438    4.75126    6.07541   \n",
      "GSM95263    3.70173    5.54693    6.88922    5.31099    4.63275    5.99084   \n",
      "GSM95291    3.84251    5.53791    7.13280    5.25818    4.61199    6.05975   \n",
      "GSM95112    3.56832    5.35057    6.81038    5.30885    4.38889    5.99645   \n",
      "GSM95114    3.47294    5.36798    6.59039    5.00733    4.42526    5.70484   \n",
      "GSM95242    3.61899    5.45633    7.10774    5.29198    4.60187    6.22243   \n",
      "GSM95237    3.65057    5.42917    7.15448    5.57140    4.79595    6.35720   \n",
      "GSM95239    3.49014    5.36852    7.02300    5.29710    4.71561    5.99588   \n",
      "GSM95256    3.48292    5.48704    6.99686    5.46427    4.60023    6.19795   \n",
      "GSM95236    3.47337    5.50797    6.84621    5.18254    4.60738    5.80494   \n",
      "GSM95259    3.33723    5.60756    7.16120    4.89952    4.66237    6.08442   \n",
      "GSM95295    3.71650    5.45302    7.21648    5.26514    4.50229    5.93710   \n",
      "GSM95194    3.59834    5.43918    6.88146    5.24436    4.50161    5.81833   \n",
      "GSM95296    3.61366    5.46530    7.23107    5.30005    4.61582    6.20205   \n",
      "GSM95323    3.51833    5.39093    7.14023    5.25522    4.75641    6.02565   \n",
      "GSM95260    3.49258    5.31444    6.99964    5.18857    4.67276    5.77513   \n",
      "GSM95261    3.59201    5.38658    6.99194    4.87618    4.70003    5.91450   \n",
      "GSM95294    3.61900    5.52682    6.89965    4.64422    4.51917    5.54886   \n",
      "\n",
      "          141206_at  141207_at  141208_at  141209_at  ...  AFFX-ThrX-3_at  \\\n",
      "GSM95424    7.10323    4.31335    5.25411    7.65238  ...         7.55184   \n",
      "GSM95425    6.90955    4.38611    5.27720    7.51818  ...         6.78527   \n",
      "GSM95444    6.94380    4.20917    5.36327    7.63492  ...         8.20187   \n",
      "GSM95324    6.82933    4.20606    5.32454    7.45160  ...         6.30469   \n",
      "GSM95421    6.97706    4.22661    5.40733    7.53137  ...         6.77700   \n",
      "GSM95423    7.00155    4.15154    5.37987    7.59254  ...         6.66053   \n",
      "GSM95325    6.84405    3.94747    5.19602    7.37731  ...         6.83628   \n",
      "GSM95420    6.88599    4.36661    5.41965    7.42033  ...         6.76439   \n",
      "GSM95422    7.08814    4.02184    5.31896    7.54474  ...         6.99822   \n",
      "GSM95290    7.26723    4.47476    5.54710    7.73129  ...         3.83702   \n",
      "GSM95292    7.30107    4.85886    5.67052    7.42149  ...         3.75049   \n",
      "GSM95293    7.04612    4.44182    5.15460    7.57755  ...         4.18807   \n",
      "GSM95262    7.12128    4.64402    5.58334    7.53948  ...         3.96581   \n",
      "GSM95263    6.91636    4.41563    5.39835    7.42456  ...         4.19686   \n",
      "GSM95291    7.19411    4.84036    5.84041    7.47577  ...         4.03202   \n",
      "GSM95112    6.92828    4.47072    5.40031    7.33966  ...         4.13886   \n",
      "GSM95114    6.77359    4.43998    5.17224    7.40192  ...         4.20482   \n",
      "GSM95242    7.05528    4.62824    5.44395    7.41678  ...         3.88820   \n",
      "GSM95237    6.99981    4.60173    5.83647    7.50339  ...         4.00188   \n",
      "GSM95239    6.93164    4.46610    5.45592    7.45956  ...         4.17794   \n",
      "GSM95256    7.01813    4.65171    5.54313    7.37638  ...         4.01036   \n",
      "GSM95236    6.85509    4.33647    5.02159    7.12219  ...         4.23856   \n",
      "GSM95259    6.90477    3.66241    5.48508    7.30661  ...         4.22907   \n",
      "GSM95295    7.07699    4.50527    5.52880    7.32624  ...         4.04266   \n",
      "GSM95194    6.90999    4.48618    5.38018    7.30555  ...         4.02345   \n",
      "GSM95296    7.07053    4.55939    5.47177    7.51354  ...         3.96276   \n",
      "GSM95323    6.98945    4.47822    5.55008    7.36444  ...         4.07560   \n",
      "GSM95260    6.98939    4.18343    5.12877    7.37153  ...         4.14432   \n",
      "GSM95261    6.90513    4.46629    5.47299    7.31211  ...         4.08759   \n",
      "GSM95294    6.86361    4.33264    5.13968    7.16980  ...         4.26890   \n",
      "\n",
      "          AFFX-ThrX-5_at  AFFX-ThrX-M_at  AFFX-TrpnX-3_at  AFFX-TrpnX-5_at  \\\n",
      "GSM95424         5.43532         5.67326          2.36744          2.66457   \n",
      "GSM95425         5.05907         4.92737          2.27453          2.46741   \n",
      "GSM95444         5.83632         6.67257          2.40788          2.61438   \n",
      "GSM95324         5.02071         4.60969          2.33026          2.64872   \n",
      "GSM95421         4.85726         5.04870          2.35221          2.73892   \n",
      "GSM95423         4.78067         4.85828          2.47444          2.71069   \n",
      "GSM95325         4.96311         5.19890          2.68569          2.81651   \n",
      "GSM95420         4.74533         5.06816          2.58346          2.72166   \n",
      "GSM95422         4.98203         5.03550          2.59126          2.84020   \n",
      "GSM95290         3.81792         2.73457          2.35884          2.57256   \n",
      "GSM95292         3.63657         2.80322          2.24774          2.64016   \n",
      "GSM95293         3.92631         2.86763          2.33716          2.62173   \n",
      "GSM95262         3.60723         2.79411          2.26433          2.67909   \n",
      "GSM95263         4.02479         3.06715          2.49967          2.65318   \n",
      "GSM95291         3.60691         2.78999          2.39437          2.67136   \n",
      "GSM95112         3.81244         2.77903          2.30384          2.71275   \n",
      "GSM95114         3.92395         3.03068          2.35722          2.74292   \n",
      "GSM95242         3.70795         2.62421          2.31259          2.76930   \n",
      "GSM95237         3.49677         2.85580          2.29418          2.59401   \n",
      "GSM95239         3.95889         2.83375          2.30569          2.82764   \n",
      "GSM95256         3.80056         2.73168          2.30137          2.53118   \n",
      "GSM95236         3.84479         2.98200          2.49131          2.79782   \n",
      "GSM95259         4.03283         2.94817          2.53572          2.73546   \n",
      "GSM95295         3.77213         2.79455          2.32138          2.67646   \n",
      "GSM95194         3.71468         2.94792          2.28795          2.69254   \n",
      "GSM95296         3.71634         2.77236          2.31900          2.56384   \n",
      "GSM95323         3.75941         2.84159          2.40562          2.65472   \n",
      "GSM95260         3.56233         2.92607          2.48418          2.74072   \n",
      "GSM95261         3.95950         2.99479          2.39684          2.72137   \n",
      "GSM95294         3.98361         2.95161          2.27635          2.67149   \n",
      "\n",
      "          AFFX-TrpnX-M_at  AFFX-YEL002c/WBP1_at  AFFX-YEL018w/_at  \\\n",
      "GSM95424          2.72344               2.89604           2.34574   \n",
      "GSM95425          2.77508               2.68409           2.46161   \n",
      "GSM95444          2.65315               2.74543           2.42794   \n",
      "GSM95324          2.68254               2.56479           2.40380   \n",
      "GSM95421          2.73579               2.59447           2.38402   \n",
      "GSM95423          2.92240               2.57816           2.58365   \n",
      "GSM95325          2.69964               2.77758           2.42352   \n",
      "GSM95420          2.85899               2.70990           2.67445   \n",
      "GSM95422          2.94747               2.63822           2.57970   \n",
      "GSM95290          2.69707               2.63608           2.35930   \n",
      "GSM95292          2.71181               2.44105           2.34352   \n",
      "GSM95293          2.78936               2.50171           2.39130   \n",
      "GSM95262          2.78604               2.52477           2.36540   \n",
      "GSM95263          2.89197               2.64141           2.41052   \n",
      "GSM95291          2.70137               2.53060           2.44858   \n",
      "GSM95112          2.93196               2.74293           2.43629   \n",
      "GSM95114          2.79531               2.62824           2.59568   \n",
      "GSM95242          2.80309               2.44776           2.37761   \n",
      "GSM95237          2.80751               2.47106           2.50044   \n",
      "GSM95239          2.93165               2.64033           2.43149   \n",
      "GSM95256          2.84597               2.51781           2.43945   \n",
      "GSM95236          3.04323               2.68081           2.73031   \n",
      "GSM95259          2.81115               2.66831           2.55499   \n",
      "GSM95295          2.81911               2.59707           2.50369   \n",
      "GSM95194          2.83479               2.65906           2.54094   \n",
      "GSM95296          2.78406               2.60932           2.45865   \n",
      "GSM95323          2.77331               2.72341           2.45135   \n",
      "GSM95260          2.95209               2.57746           2.39673   \n",
      "GSM95261          2.77462               2.61664           2.61730   \n",
      "GSM95294          2.77627               2.50205           2.33452   \n",
      "\n",
      "          AFFX-YEL021w/URA3_at  AFFX-YEL024w/RIP1_at  \n",
      "GSM95424               2.46772               2.87624  \n",
      "GSM95425               2.40230               2.88107  \n",
      "GSM95444               2.37488               2.93086  \n",
      "GSM95324               2.37482               2.81991  \n",
      "GSM95421               2.45214               2.85487  \n",
      "GSM95423               2.51899               2.98672  \n",
      "GSM95325               2.44716               2.85868  \n",
      "GSM95420               2.31072               2.91087  \n",
      "GSM95422               2.61828               2.98960  \n",
      "GSM95290               2.22649               2.75311  \n",
      "GSM95292               2.22601               2.69280  \n",
      "GSM95293               2.38763               2.87921  \n",
      "GSM95262               2.38764               2.87349  \n",
      "GSM95263               2.32110               2.85350  \n",
      "GSM95291               2.38664               2.81001  \n",
      "GSM95112               2.38523               2.87180  \n",
      "GSM95114               2.47838               3.04000  \n",
      "GSM95242               2.37690               2.84318  \n",
      "GSM95237               2.30044               2.74648  \n",
      "GSM95239               2.52944               2.83849  \n",
      "GSM95256               2.32745               2.72469  \n",
      "GSM95236               2.44649               3.02880  \n",
      "GSM95259               2.43784               2.92478  \n",
      "GSM95295               2.42960               2.78004  \n",
      "GSM95194               2.32200               2.86386  \n",
      "GSM95296               2.26008               2.78003  \n",
      "GSM95323               2.37731               2.78019  \n",
      "GSM95260               2.38820               3.03251  \n",
      "GSM95261               2.41316               2.90677  \n",
      "GSM95294               2.40617               2.90080  \n",
      "\n",
      "[30 rows x 14010 columns]\n"
     ]
    }
   ],
   "source": [
    "data=datai.transpose()\n",
    "print(data)\n"
   ]
  },
  {
   "cell_type": "code",
   "execution_count": 310,
   "metadata": {
    "scrolled": false
   },
   "outputs": [
    {
     "name": "stdout",
     "output_type": "stream",
     "text": [
      "Valores em falta nos dados:\n",
      "0\n",
      "Valores em falta nos metadados:\n",
      "0\n"
     ]
    }
   ],
   "source": [
    "# Missing Values \n",
    "print(\"Valores em falta nos dados:\")\n",
    "print(data.isnull().sum().sum())\n",
    "print(\"Valores em falta nos metadados:\")\n",
    "print(meta.isnull().sum().sum())"
   ]
  },
  {
   "cell_type": "code",
   "execution_count": 311,
   "metadata": {},
   "outputs": [
    {
     "name": "stdout",
     "output_type": "stream",
     "text": [
      "Tipos de atributos nos dados:\n",
      "141200_at               float64\n",
      "141201_at               float64\n",
      "141202_at               float64\n",
      "141203_at               float64\n",
      "141204_at               float64\n",
      "                         ...   \n",
      "AFFX-TrpnX-M_at         float64\n",
      "AFFX-YEL002c/WBP1_at    float64\n",
      "AFFX-YEL018w/_at        float64\n",
      "AFFX-YEL021w/URA3_at    float64\n",
      "AFFX-YEL024w/RIP1_at    float64\n",
      "Length: 14010, dtype: object\n"
     ]
    }
   ],
   "source": [
    "# Descrição dos atributos nos dados\n",
    "print(\"Tipos de atributos nos dados:\")\n",
    "print(data.dtypes)"
   ]
  },
  {
   "cell_type": "code",
   "execution_count": 312,
   "metadata": {
    "scrolled": true
   },
   "outputs": [
    {
     "name": "stdout",
     "output_type": "stream",
     "text": [
      "0\n"
     ]
    }
   ],
   "source": [
    "# Missing Values in metadataint(\"Total de valores em falta nos metadados:\")\n",
    "print(meta.isnull().sum().sum())"
   ]
  },
  {
   "cell_type": "code",
   "execution_count": 313,
   "metadata": {},
   "outputs": [
    {
     "name": "stdout",
     "output_type": "stream",
     "text": [
      "Tipos de atributos nos metadados:\n",
      "sample         object\n",
      "protocol       object\n",
      "time           object\n",
      "description    object\n",
      "dtype: object\n"
     ]
    }
   ],
   "source": [
    "# Descrição dos atributos nos metadados\n",
    "print(\"Tipos de atributos nos metadados:\")\n",
    "print(meta.dtypes)"
   ]
  },
  {
   "cell_type": "markdown",
   "metadata": {
    "collapsed": true
   },
   "source": [
    "**Data Understanding**\n",
    "\n",
    "Este estudo pretendia investigar os efeitos da privação do sono no cérebro de moscas fêmeas virgens da espécie Drosophila melanogaster, através da análise de variações na expressão génica destas. Os genes estudados tinham já sido documentados como sendo regulados de forma diferente durante períodos de sono ou atividade. \n",
    "\n",
    "Obtiveram-se informações sobre os processos moleculares dinâmicos que são alterados durante a vigília e durante o sono. Para tal, realizou-se um estudo de perfil de expressão de RNA examinando-se mudanças temporais no cérebro da Drosophila em relação à duração do sono ou vigília anteriores. O projeto experimental permitiu determinar se os genes identificados como regulados diferencialmente entre o sono e a vigília eram regulados para cima ou para baixo nesses estados.\n",
    "\n",
    "Parte dos dados dizem respeito ao controlo dos processos circadianos, matando-se animais em quatro pontos de tempo (0, 2, 4 e 6 horas) desde o início do período de descanso consolidado [Zeitgeber Time (ZT) 14)] sob duas condições: privação de sono e sono espontâneo. O ponto de tempo “0” trata-se do controlo do período de sono.\n",
    "\n",
    "O restantes dados surgiram com o intuito de controlar o efeito do estimulação das moscas durante a privação de sono, sendo referentes à estimulação manual das moscas durante o seu período ativo de ZT10-ZT14. Neste conjunto de dados, foram analisadas moscas no ponto de tempo “0”/ZT10 (controlo) e ao fim de 4 horas/ZT14, para moscas perturbadas e não perturbadas."
   ]
  },
  {
   "cell_type": "markdown",
   "metadata": {},
   "source": [
    "Nos dados, cada atributo representa um dos genes em estudo e cada instância corresponde a uma das amostras. Assim, cada linha terá 14010 valores de expressão de cada gene (cada célula é representada por um dado do tipo *float64*).\n",
    " \n",
    "Já nos metadados, os atributos são: a amostra, o ambiente a que foi sujeita, o período de sujeição ao ambiente e a descrição de cada instância. Estes atributos são do tipo *object*. Os meta-dados possuem quatro variáveis (\"sample\", \"protocol\", \"time\", \"description\"), mas apenas duas possuem informação relevante para análise dos dados e geração dos modelos de machine learning: \"protocol\" e \"time\"."
   ]
  },
  {
   "cell_type": "markdown",
   "metadata": {},
   "source": []
  },
  {
   "cell_type": "raw",
   "metadata": {},
   "source": []
  },
  {
   "cell_type": "raw",
   "metadata": {},
   "source": []
  },
  {
   "cell_type": "markdown",
   "metadata": {},
   "source": [
    "**Data Processing**\n",
    "\n",
    "Neste dataset, as amostras estão agrupadas em ambientes de recolha. Tendo isto em conta e o facto de serem apenas 30, não se considerou pertinente proceder à remoção de outliers. Também não se verifica a existência de valores nulos.\n",
    "Como todos os dados estão representados na mesma escala (nível de expressão génica) e o número de atributos é igual para todas as amostras, não haveria necessidade total de realizar normalização nem balaceamento dos dados. Contudo, procedeu-se na mesma à normalização para obter média igual a zero e desvio-padrão igual a 1, para na análise dos modelos a criar se poder deixar de lado a importância da escala.\n",
    "\n",
    "Este dataset apresenta um elevado valor de atributos (colunas) - 14010 - correspondentes aos diferentes genes estudados. Uma análise de PC (Principal Components) permitirá reduzir este número, considerando apenas os atributos que conseguem explicar a maioria da variabilidade dos dados. Por exemplo, se se aplicar uma PCA que permita explicar 90% desta variabilidade, reduzir-se-á o número de atributos (genes a analisar) àqueles que a explicam."
   ]
  },
  {
   "cell_type": "code",
   "execution_count": 314,
   "metadata": {},
   "outputs": [
    {
     "name": "stdout",
     "output_type": "stream",
     "text": [
      "[2.39691084e-01 1.58470120e-01 7.16860362e-02 4.50942771e-02\n",
      " 3.79773784e-02 3.63413360e-02 3.27745431e-02 2.90720793e-02\n",
      " 2.77946897e-02 2.40645040e-02 2.23265235e-02 2.06159151e-02\n",
      " 1.96604660e-02 1.90771731e-02 1.86079279e-02 1.76392933e-02\n",
      " 1.72669578e-02 1.62588555e-02 1.57998798e-02 1.52603008e-02\n",
      " 1.47597314e-02 1.43374509e-02 1.40301536e-02 1.31051139e-02\n",
      " 1.25497475e-02 1.23073635e-02 1.19131001e-02 1.12827570e-02\n",
      " 1.02352418e-02 3.84708172e-34]\n",
      "0.702966047660038\n"
     ]
    },
    {
     "data": {
      "image/png": "[encoded data removed]",
      "text/plain": [
       "<Figure size 2000x600 with 1 Axes>"
      ]
     },
     "metadata": {},
     "output_type": "display_data"
    },
    {
     "name": "stdout",
     "output_type": "stream",
     "text": [
      "0.702966047660038 9\n",
      "0.7252925711182634 10\n",
      "0.7459084862141241 11\n",
      "0.7655689522059183 12\n",
      "0.7846461252670309 13\n",
      "0.8032540531492964 14\n",
      "0.8208933464185276 15\n",
      "0.8381603042439876 16\n",
      "0.8544191596971645 17\n",
      "0.8702190394635029 18\n",
      "0.8854793402199539 19\n",
      "0.9002390716175565 20\n",
      "0.914576522553859 21\n",
      "0.9286066761961072 22\n",
      "0.9417117901049407 23\n",
      "0.9542615375943395 24\n",
      "0.9665689011365898 25\n",
      "0.9784820012019473 26\n",
      "0.9897647582223359 27\n",
      "0.9999999999999999 28\n",
      "0.9999999999999999 29\n"
     ]
    }
   ],
   "source": [
    "n=30 # 30 amostras para análise\n",
    "pca = PCA(n_components=n)\n",
    "data_scale = preprocessing.scale(data)\n",
    "pca.fit(data_scale)                                                           # media e desvio\n",
    "x_reduced = pca.transform(data_scale)   \n",
    "principalComponents = pca.fit_transform(x_reduced)# escala\n",
    "print (pca.explained_variance_ratio_) \n",
    "print(sum(pca.explained_variance_ratio_[:10]))                          # 90% da variabilidade\n",
    "\n",
    "per_var=np.round(pca.explained_variance_ratio_*100, decimals=1)\n",
    "labels=[\"PC\"+str(x) for x in range(1,len(per_var)+1)]                  \n",
    "plt.figure(figsize=(20, 6))  # width:20, height:3\n",
    "\n",
    "plt.bar([x*2 for x in range(1,len(per_var)+1)], height=per_var, align=\"center\", width=1)\n",
    "plt.ylabel(\"Percentagem da variação explicada\")\n",
    "plt.xticks([x*2 for x in range(1,len(per_var)+1)], labels, rotation=45)\n",
    "\n",
    "\n",
    "plt.show()\n",
    "\n",
    "soma=0\n",
    "for i in range(len(pca.explained_variance_ratio_)):\n",
    "    soma+=pca.explained_variance_ratio_[i]\n",
    "    if soma>=0.70:\n",
    "        print(soma,i)\n",
    "\n"
   ]
  },
  {
   "cell_type": "markdown",
   "metadata": {},
   "source": [
    "O gráfico das percentagens de variabilidade explicadas por PC permite inferir que a partir dos 10 primeiros componentes a variabilidade adicional explicada por cada novo componente principal é muito baixa. Os 10 primeiros PC descrevem 72.5% da variabilicade, enquanto que os \"standard\" 90% de variabilidade são atingidos com 20 PC's.\n",
    "\n",
    "COMO SABER QUAIS OS ATRIBUTOS QUE CONSTITUEM CADA PC??????\n",
    "E COMO SELECIONAR APENAS ESSES PARA A CRIAÇÃO DOS MODELOS?????"
   ]
  },
  {
   "cell_type": "code",
   "execution_count": 315,
   "metadata": {},
   "outputs": [],
   "source": [
    "#descricao=data.describe()"
   ]
  },
  {
   "cell_type": "code",
   "execution_count": 316,
   "metadata": {},
   "outputs": [],
   "source": [
    "#print(descricao)\n"
   ]
  },
  {
   "cell_type": "markdown",
   "metadata": {},
   "source": [
    "**SECÇÃO 2**"
   ]
  },
  {
   "cell_type": "markdown",
   "metadata": {},
   "source": [
    "Análise estatística dos dados"
   ]
  },
  {
   "cell_type": "code",
   "execution_count": 317,
   "metadata": {},
   "outputs": [
    {
     "data": {
      "image/png": "[encoded data removed]",
      "text/plain": [
       "<Figure size 2500x1000 with 1 Axes>"
      ]
     },
     "metadata": {},
     "output_type": "display_data"
    }
   ],
   "source": [
    "Z = linkage(data, metric='cityblock')\n",
    "meta_data = meta\n",
    "meta_data['labels'] = meta_data['protocol'] + '-' + meta_data['time'].astype(str)\n",
    "\n",
    "# calculate full dendrogram\n",
    "plt.figure(figsize=(25, 10))\n",
    "dendrogram(\n",
    "    Z,\n",
    "    labels=list(meta_data['labels']),\n",
    "    leaf_rotation=90.,  # rotates the x axis labels\n",
    "    leaf_font_size=8.,  # font size for the x axis labels\n",
    ")\n",
    "\n",
    "plt.title('Hierarchical Clustering Dendrogram')\n",
    "plt.ylabel('distance')\n",
    "\n",
    "\n",
    "# Assignment of colors to labels: 'a' is red, 'b' is green, etc.\n",
    "label_colors = {'active period control-0 h': 'y', \n",
    "                'unperturbed during active period-4 h': 'g', \n",
    "                'perturbed during active period-4 h': 'm',\n",
    "                'sleep period control-0 h': 'b', \n",
    "                'sleep-2 h': 'r',\n",
    "                'sleep-4 h': 'r',\n",
    "                'sleep-6 h': 'r',\n",
    "                'sleep deprived-2 h': 'k',\n",
    "                'sleep deprived-4 h': 'k',\n",
    "                'sleep deprived-6 h': 'k',\n",
    "               }\n",
    "ax = plt.gca()\n",
    "xlbls = ax.get_xmajorticklabels()\n",
    "for lbl in xlbls:\n",
    "    lbl.set_color(label_colors[lbl.get_text()])\n",
    "\n",
    "plt.show()"
   ]
  },
  {
   "cell_type": "markdown",
   "metadata": {},
   "source": [
    "O cluster hierárquico permite retirar desde já algumas conclusões:\n",
    "\n",
    "    - as moscas que dormiram apresentam padrões de expressão mais próximos entre si, qualquer que seja o período, estando localizados na sua maioria no cluster verde.\n",
    "    \n",
    "    - as moscas perturbadas durante o período ativo apresentam igualmente padrões muito próximos entre si (cluster laranja), o que pode revelar que há mecanismos comuns que são ativados em qualquer mosca que seja perturbada (talvez algum complexo de \"fight or flight\".\n",
    "    \n",
    "    - as moscas privadas do sono apresentam expressões mais variadas, o que pode significar que o tipo de resposta nestas situações varia de organismo para organismo e ao longo do tempo a que estão sujeitos a esta imposição. Como a privação do sono costuma provocar uma desregulação das funções normais, essa desregulação pode ocorrer de forma diferente para cada um."
   ]
  },
  {
   "cell_type": "code",
   "execution_count": 318,
   "metadata": {},
   "outputs": [
    {
     "data": {
      "text/html": [
       "<div>\n",
       "<style scoped>\n",
       "    .dataframe tbody tr th:only-of-type {\n",
       "        vertical-align: middle;\n",
       "    }\n",
       "\n",
       "    .dataframe tbody tr th {\n",
       "        vertical-align: top;\n",
       "    }\n",
       "\n",
       "    .dataframe thead th {\n",
       "        text-align: right;\n",
       "    }\n",
       "</style>\n",
       "<table border=\"1\" class=\"dataframe\">\n",
       "  <thead>\n",
       "    <tr style=\"text-align: right;\">\n",
       "      <th>protocol</th>\n",
       "      <th>active period control</th>\n",
       "      <th>perturbed during active period</th>\n",
       "      <th>sleep</th>\n",
       "      <th>sleep deprived</th>\n",
       "      <th>sleep period control</th>\n",
       "      <th>unperturbed during active period</th>\n",
       "    </tr>\n",
       "    <tr>\n",
       "      <th>clusters</th>\n",
       "      <th></th>\n",
       "      <th></th>\n",
       "      <th></th>\n",
       "      <th></th>\n",
       "      <th></th>\n",
       "      <th></th>\n",
       "    </tr>\n",
       "  </thead>\n",
       "  <tbody>\n",
       "    <tr>\n",
       "      <th>0</th>\n",
       "      <td>0</td>\n",
       "      <td>0</td>\n",
       "      <td>0</td>\n",
       "      <td>4</td>\n",
       "      <td>0</td>\n",
       "      <td>0</td>\n",
       "    </tr>\n",
       "    <tr>\n",
       "      <th>1</th>\n",
       "      <td>2</td>\n",
       "      <td>3</td>\n",
       "      <td>1</td>\n",
       "      <td>0</td>\n",
       "      <td>1</td>\n",
       "      <td>2</td>\n",
       "    </tr>\n",
       "    <tr>\n",
       "      <th>2</th>\n",
       "      <td>1</td>\n",
       "      <td>0</td>\n",
       "      <td>6</td>\n",
       "      <td>3</td>\n",
       "      <td>2</td>\n",
       "      <td>0</td>\n",
       "    </tr>\n",
       "    <tr>\n",
       "      <th>3</th>\n",
       "      <td>0</td>\n",
       "      <td>0</td>\n",
       "      <td>2</td>\n",
       "      <td>2</td>\n",
       "      <td>0</td>\n",
       "      <td>1</td>\n",
       "    </tr>\n",
       "  </tbody>\n",
       "</table>\n",
       "</div>"
      ],
      "text/plain": [
       "protocol  active period control  perturbed during active period  sleep  \\\n",
       "clusters                                                                 \n",
       "0                             0                               0      0   \n",
       "1                             2                               3      1   \n",
       "2                             1                               0      6   \n",
       "3                             0                               0      2   \n",
       "\n",
       "protocol  sleep deprived  sleep period control  \\\n",
       "clusters                                         \n",
       "0                      4                     0   \n",
       "1                      0                     1   \n",
       "2                      3                     2   \n",
       "3                      2                     0   \n",
       "\n",
       "protocol  unperturbed during active period  \n",
       "clusters                                    \n",
       "0                                        0  \n",
       "1                                        2  \n",
       "2                                        0  \n",
       "3                                        1  "
      ]
     },
     "execution_count": 318,
     "metadata": {},
     "output_type": "execute_result"
    }
   ],
   "source": [
    "from sklearn.cluster import KMeans\n",
    "\n",
    "k=4\n",
    "kmeans = KMeans(n_clusters=k, max_iter=1000)\n",
    "kmeans.fit(data_scale)\n",
    "labels = kmeans.labels_\n",
    "centroids = kmeans.cluster_centers_\n",
    "\n",
    "pd.crosstab(labels, meta['protocol'], rownames=['clusters'] )"
   ]
  },
  {
   "cell_type": "markdown",
   "metadata": {},
   "source": [
    "Esta análise de cluster realizada por kmeans comprovas as conclusões anteriores, onde se verifica que as moscas que dormiram se concentram maioritariamente no cluster 1, as perturbadas no período ativo se encontram todas no cluster 2 e as que foram privadas de sono apresentam uma distribuição errática."
   ]
  },
  {
   "cell_type": "markdown",
   "metadata": {},
   "source": [
    "**SECÇÃO 3**"
   ]
  },
  {
   "cell_type": "markdown",
   "metadata": {},
   "source": [
    "A fase seguinte é a de implementação de modelos de Machine Learning. Para isso, é necessário dividir os dados em conjuntos de treino e de teste. O primeiro serve de input ao modelo para que este possa criar as suas relações e o segundo, como o nome indica, permite que essas relações sejam testadas e ver até que ponto foram eficazes a prever o ambiente a que as moscas haviam sido sujeitas."
   ]
  },
  {
   "cell_type": "code",
   "execution_count": 319,
   "metadata": {},
   "outputs": [
    {
     "name": "stdout",
     "output_type": "stream",
     "text": [
      "30\n",
      "TreinoX  (20, 14010)\n",
      "TesteX (10, 14010)\n",
      "TreinoY  (20,)\n",
      "TesteY (10,)\n"
     ]
    }
   ],
   "source": [
    "from sklearn.model_selection import train_test_split\n",
    "\n",
    "input_data = data.values\n",
    "#output_data = meta_data['labels'].values\n",
    "output_data = meta['protocol'].values\n",
    "input_sc = preprocessing.scale(input_data)\n",
    "print(len(input_sc))\n",
    "\n",
    "treinoX, testeX, treinoY, testeY = train_test_split(input_sc, output_data, train_size=2/3, random_state=0)\n",
    "print(\"TreinoX \", treinoX.shape)\n",
    "print(\"TesteX\", testeX.shape)\n",
    "print(\"TreinoY \", treinoY.shape)\n",
    "print(\"TesteY\", testeY.shape)"
   ]
  },
  {
   "cell_type": "markdown",
   "metadata": {},
   "source": [
    "K-neighbours"
   ]
  },
  {
   "cell_type": "code",
   "execution_count": 320,
   "metadata": {},
   "outputs": [
    {
     "name": "stdout",
     "output_type": "stream",
     "text": [
      "Accuracy:  0.3\n"
     ]
    },
    {
     "name": "stderr",
     "output_type": "stream",
     "text": [
      "C:\\Users\\tomas\\anaconda3\\lib\\site-packages\\sklearn\\neighbors\\_classification.py:228: FutureWarning: Unlike other reduction functions (e.g. `skew`, `kurtosis`), the default behavior of `mode` typically preserves the axis it acts along. In SciPy 1.11.0, this behavior will change: the default value of `keepdims` will become False, the `axis` over which the statistic is taken will be eliminated, and the value None will no longer be accepted. Set `keepdims` to True or False to avoid this warning.\n",
      "  mode, _ = stats.mode(_y[neigh_ind, k], axis=1)\n"
     ]
    }
   ],
   "source": [
    "knn = KNeighborsClassifier()\n",
    "knn.fit(treinoX, treinoY)\n",
    "preds_knn = knn.predict(testeX)\n",
    "\n",
    "from sklearn.metrics import accuracy_score\n",
    "print('Accuracy: ', accuracy_score(preds_knn, testeY))"
   ]
  },
  {
   "cell_type": "markdown",
   "metadata": {},
   "source": [
    "Modelo de Decision Tree"
   ]
  },
  {
   "cell_type": "code",
   "execution_count": 321,
   "metadata": {},
   "outputs": [
    {
     "name": "stdout",
     "output_type": "stream",
     "text": [
      "Accuracy:  0.4\n"
     ]
    }
   ],
   "source": [
    "from sklearn import tree\n",
    "from sklearn import tree\n",
    "\n",
    "tree_model = tree.DecisionTreeClassifier()\n",
    "tree_model = tree_model.fit(treinoX, treinoY)\n",
    "print('Accuracy: ', tree_model.score(testeX,  testeY))"
   ]
  },
  {
   "cell_type": "markdown",
   "metadata": {},
   "source": [
    "Regressao Logistica"
   ]
  },
  {
   "cell_type": "code",
   "execution_count": 322,
   "metadata": {},
   "outputs": [
    {
     "name": "stdout",
     "output_type": "stream",
     "text": [
      "Accuracy:  0.5\n"
     ]
    }
   ],
   "source": [
    "from sklearn import linear_model\n",
    "\n",
    "logistic = linear_model.LogisticRegression(C=1e5, solver = \"liblinear\", multi_class = \"auto\")\n",
    "logistic = logistic.fit(treinoX, treinoY)\n",
    "print('Accuracy: ', logistic.score(testeX,  testeY))"
   ]
  },
  {
   "cell_type": "markdown",
   "metadata": {},
   "source": [
    "SVM"
   ]
  },
  {
   "cell_type": "code",
   "execution_count": 323,
   "metadata": {},
   "outputs": [
    {
     "name": "stdout",
     "output_type": "stream",
     "text": [
      "Accuracy:  0.5\n"
     ]
    }
   ],
   "source": [
    "from sklearn import svm\n",
    "\n",
    "svm_model = svm.SVC(kernel='linear', C=1)\n",
    "svm_model = svm_model.fit(treinoX, treinoY)\n",
    "print('Accuracy: ', svm_model.score(testeX,  testeY))"
   ]
  },
  {
   "cell_type": "markdown",
   "metadata": {},
   "source": [
    "Naive Bayes"
   ]
  },
  {
   "cell_type": "code",
   "execution_count": 324,
   "metadata": {},
   "outputs": [
    {
     "name": "stdout",
     "output_type": "stream",
     "text": [
      "Accuracy:  0.2\n"
     ]
    }
   ],
   "source": [
    "from sklearn.naive_bayes import GaussianNB\n",
    "\n",
    "gnb_model = GaussianNB()\n",
    "gnb_model = gnb_model.fit(treinoX, treinoY)\n",
    "print('Accuracy: ', gnb_model.score(testeX,  testeY))"
   ]
  },
  {
   "cell_type": "markdown",
   "metadata": {},
   "source": [
    "Os modelos não conseguiram prever de forma eficaz o tipo de ambiente ('protocol') a que as moscas foram sujeitas, como se pode verificar pelos valores de 'accuracy' obtidos para cada um dos 5 modelos aplicados. O ideal seria conseguir prever com exatidão o conjunto das duas colunas significativas dos meta-dados: 'protocol' e 'time'. Ou seja, deviam conseguir prever o ambiente a que as moscas haviam sido sujeitas bem como a duração dessa exposição. Contudo, se os valores de 'accuracy' foram já tão baixos a prever apenas o 'protocol', seriam ainda piores a prever a combinação destas duas variáveis.\n",
    "\n",
    "Isto pode dever-se ao número muito baixo de amostras disponíveis (apenas 30). Isto faz com que o subconjunto de treino seja muito pequeno (apenas 20, já que se dividiu o dataset em 2/3 para teste e 1/3 para treino), deixando os modelos com pouca informação para estabelecer as suas relações de forma assertiva.\n",
    "\n",
    "Ainda assim, fez-se uma análise de 'cross validation' para tentar perceber qual dos modelos foi mais bem-sucedido:"
   ]
  },
  {
   "cell_type": "markdown",
   "metadata": {},
   "source": [
    "K-neighbours"
   ]
  },
  {
   "cell_type": "code",
   "execution_count": 325,
   "metadata": {},
   "outputs": [
    {
     "name": "stdout",
     "output_type": "stream",
     "text": [
      "knn [0.5 0.3 0.4]\n",
      "Média:  0.4000000000000001\n"
     ]
    },
    {
     "name": "stderr",
     "output_type": "stream",
     "text": [
      "C:\\Users\\tomas\\anaconda3\\lib\\site-packages\\sklearn\\neighbors\\_classification.py:228: FutureWarning: Unlike other reduction functions (e.g. `skew`, `kurtosis`), the default behavior of `mode` typically preserves the axis it acts along. In SciPy 1.11.0, this behavior will change: the default value of `keepdims` will become False, the `axis` over which the statistic is taken will be eliminated, and the value None will no longer be accepted. Set `keepdims` to True or False to avoid this warning.\n",
      "  mode, _ = stats.mode(_y[neigh_ind, k], axis=1)\n",
      "C:\\Users\\tomas\\anaconda3\\lib\\site-packages\\sklearn\\neighbors\\_classification.py:228: FutureWarning: Unlike other reduction functions (e.g. `skew`, `kurtosis`), the default behavior of `mode` typically preserves the axis it acts along. In SciPy 1.11.0, this behavior will change: the default value of `keepdims` will become False, the `axis` over which the statistic is taken will be eliminated, and the value None will no longer be accepted. Set `keepdims` to True or False to avoid this warning.\n",
      "  mode, _ = stats.mode(_y[neigh_ind, k], axis=1)\n",
      "C:\\Users\\tomas\\anaconda3\\lib\\site-packages\\sklearn\\neighbors\\_classification.py:228: FutureWarning: Unlike other reduction functions (e.g. `skew`, `kurtosis`), the default behavior of `mode` typically preserves the axis it acts along. In SciPy 1.11.0, this behavior will change: the default value of `keepdims` will become False, the `axis` over which the statistic is taken will be eliminated, and the value None will no longer be accepted. Set `keepdims` to True or False to avoid this warning.\n",
      "  mode, _ = stats.mode(_y[neigh_ind, k], axis=1)\n"
     ]
    }
   ],
   "source": [
    "from sklearn.model_selection import cross_val_score\n",
    "\n",
    "scores_knn = cross_val_score(estimator = knn, X= input_sc, y= output_data, cv= 3)\n",
    "print(\"knn\", scores_knn)\n",
    "print('Média: ', scores_knn.mean())"
   ]
  },
  {
   "cell_type": "markdown",
   "metadata": {},
   "source": [
    "Decision Tree"
   ]
  },
  {
   "cell_type": "code",
   "execution_count": 326,
   "metadata": {},
   "outputs": [
    {
     "name": "stdout",
     "output_type": "stream",
     "text": [
      "tree_model [0.5 0.5 0.3]\n",
      "Média:  0.43333333333333335\n"
     ]
    }
   ],
   "source": [
    "scores_tree_model = cross_val_score(estimator = tree_model, X= input_sc, y= output_data, cv= 3)\n",
    "print(\"tree_model\", scores_tree_model)\n",
    "print('Média: ', scores_tree_model.mean())"
   ]
  },
  {
   "cell_type": "markdown",
   "metadata": {},
   "source": [
    "Regressão Logística"
   ]
  },
  {
   "cell_type": "code",
   "execution_count": 327,
   "metadata": {},
   "outputs": [
    {
     "name": "stdout",
     "output_type": "stream",
     "text": [
      "logistic [0.5 0.5 0.3]\n",
      "Média:  0.43333333333333335\n"
     ]
    }
   ],
   "source": [
    "scores_logistic = cross_val_score(estimator = logistic, X= input_sc, y= output_data, cv= 3)\n",
    "print(\"logistic\", scores_logistic)\n",
    "print('Média: ', scores_logistic.mean())"
   ]
  },
  {
   "cell_type": "markdown",
   "metadata": {},
   "source": [
    "SVM"
   ]
  },
  {
   "cell_type": "code",
   "execution_count": 328,
   "metadata": {},
   "outputs": [
    {
     "name": "stdout",
     "output_type": "stream",
     "text": [
      "svm_model [0.6 0.5 0.7]\n",
      "Média:  0.6\n"
     ]
    }
   ],
   "source": [
    "scores_svm = cross_val_score(estimator = svm_model, X= input_sc, y= output_data, cv= 3)\n",
    "print(\"svm_model\", scores_svm)\n",
    "print('Média: ', scores_svm.mean())"
   ]
  },
  {
   "cell_type": "markdown",
   "metadata": {},
   "source": [
    "Naive Bayes"
   ]
  },
  {
   "cell_type": "code",
   "execution_count": 329,
   "metadata": {},
   "outputs": [
    {
     "name": "stdout",
     "output_type": "stream",
     "text": [
      "gnb_model [0.5 0.2 0.6]\n",
      "Média:  0.4333333333333333\n"
     ]
    }
   ],
   "source": [
    "scores_gnb_model = cross_val_score(estimator = gnb_model, X= input_sc, y= output_data, cv= 3)\n",
    "print(\"gnb_model\", scores_gnb_model)\n",
    "print('Média: ', scores_gnb_model.mean())"
   ]
  },
  {
   "cell_type": "code",
   "execution_count": 330,
   "metadata": {},
   "outputs": [
    {
     "name": "stdout",
     "output_type": "stream",
     "text": [
      "                Modelo  Accuracy  Média CV\n",
      "0         K-Neighbours       0.3  0.400000\n",
      "1        Decision Tree       0.4  0.433333\n",
      "2  Regressao Logistica       0.5  0.433333\n",
      "3                  SVM       0.5  0.600000\n",
      "4          Naive Bayes       0.2  0.433333\n"
     ]
    }
   ],
   "source": [
    "tab = {'Modelo': ['K-Neighbours', 'Decision Tree', 'Regressao Logistica', 'SVM', 'Naive Bayes'],\n",
    "        'Accuracy': [accuracy_score(preds_knn, testeY), tree_model.score(testeX,  testeY), logistic.score(testeX,  testeY), svm_model.score(testeX,  testeY), gnb_model.score(testeX,  testeY)],\n",
    "        'Média CV': [scores_knn.mean(), scores_tree_model.mean(), scores_logistic.mean(), scores_svm.mean(), scores_gnb_model.mean()]}\n",
    "tabela = pd.DataFrame(tab)\n",
    "\n",
    "# Print the dataframe as a table\n",
    "print(tabela.to_string())"
   ]
  },
  {
   "cell_type": "markdown",
   "metadata": {},
   "source": [
    "Através desta análise, percebe-se que apesar das limitações, o modelo que se portou melhor foi o SVM.\n",
    "\n",
    "Como aquilo que se pretende ultimamente com o modelo é conseguir prever se a mosca esteve num período de sono ou de privação deste, e de forma a melhor a 'accuracy' dos modelos, decidiu-se remover as 'samples' das moscas usadas para estudar o período ativo, mantendo apenas as de controlo de sono, sono e privação do sono. Desta forma os dados utilizados para treino terão maior percentagem de informação relevante par as relações que se quer estabelecer."
   ]
  },
  {
   "cell_type": "code",
   "execution_count": 331,
   "metadata": {
    "scrolled": false
   },
   "outputs": [],
   "source": [
    "# Junção das duas bases de dados através do número da amostra\n",
    "merged = pd.merge(data, meta, left_index=True, right_on='sample')\n",
    "\n",
    "# Selecionar as instâncias que têm a palavra 'active' no atributo 'protocol'\n",
    "active_rows = merged[merged['protocol'].str.contains('active')]\n",
    "#print(active_rows)\n",
    "\n",
    "# Eliminar as instâncias selecionadas atrás dos dados e metadados\n",
    "data = data[~data.index.isin(active_rows.index)]\n",
    "meta = meta[~meta.index.isin(active_rows['sample'])]\n"
   ]
  },
  {
   "cell_type": "code",
   "execution_count": 332,
   "metadata": {},
   "outputs": [
    {
     "name": "stdout",
     "output_type": "stream",
     "text": [
      "21\n",
      "TreinoX  (14, 14010)\n",
      "TesteX (7, 14010)\n",
      "TreinoY  (14,)\n",
      "TesteY (7,)\n"
     ]
    }
   ],
   "source": [
    "#Definição dos conjuntos de treino e teste com os novos dados e metadados\n",
    "\n",
    "input_data = data.values\n",
    "#output_data = meta_data['labels'].values\n",
    "output_data = meta['protocol'].values\n",
    "input_sc = preprocessing.scale(input_data)\n",
    "print(len(input_sc))\n",
    "\n",
    "treinoX, testeX, treinoY, testeY = train_test_split(input_sc, output_data, train_size=2/3, random_state=0)\n",
    "print(\"TreinoX \", treinoX.shape)\n",
    "print(\"TesteX\", testeX.shape)\n",
    "print(\"TreinoY \", treinoY.shape)\n",
    "print(\"TesteY\", testeY.shape)"
   ]
  },
  {
   "cell_type": "markdown",
   "metadata": {},
   "source": [
    "K-Neighbours"
   ]
  },
  {
   "cell_type": "code",
   "execution_count": 333,
   "metadata": {},
   "outputs": [
    {
     "name": "stdout",
     "output_type": "stream",
     "text": [
      "Accuracy:  0.7142857142857143\n",
      "knn [0.57142857 0.28571429 0.57142857]\n",
      "Média:  0.4761904761904761\n"
     ]
    },
    {
     "name": "stderr",
     "output_type": "stream",
     "text": [
      "C:\\Users\\tomas\\anaconda3\\lib\\site-packages\\sklearn\\neighbors\\_classification.py:228: FutureWarning: Unlike other reduction functions (e.g. `skew`, `kurtosis`), the default behavior of `mode` typically preserves the axis it acts along. In SciPy 1.11.0, this behavior will change: the default value of `keepdims` will become False, the `axis` over which the statistic is taken will be eliminated, and the value None will no longer be accepted. Set `keepdims` to True or False to avoid this warning.\n",
      "  mode, _ = stats.mode(_y[neigh_ind, k], axis=1)\n",
      "C:\\Users\\tomas\\anaconda3\\lib\\site-packages\\sklearn\\neighbors\\_classification.py:228: FutureWarning: Unlike other reduction functions (e.g. `skew`, `kurtosis`), the default behavior of `mode` typically preserves the axis it acts along. In SciPy 1.11.0, this behavior will change: the default value of `keepdims` will become False, the `axis` over which the statistic is taken will be eliminated, and the value None will no longer be accepted. Set `keepdims` to True or False to avoid this warning.\n",
      "  mode, _ = stats.mode(_y[neigh_ind, k], axis=1)\n",
      "C:\\Users\\tomas\\anaconda3\\lib\\site-packages\\sklearn\\neighbors\\_classification.py:228: FutureWarning: Unlike other reduction functions (e.g. `skew`, `kurtosis`), the default behavior of `mode` typically preserves the axis it acts along. In SciPy 1.11.0, this behavior will change: the default value of `keepdims` will become False, the `axis` over which the statistic is taken will be eliminated, and the value None will no longer be accepted. Set `keepdims` to True or False to avoid this warning.\n",
      "  mode, _ = stats.mode(_y[neigh_ind, k], axis=1)\n",
      "C:\\Users\\tomas\\anaconda3\\lib\\site-packages\\sklearn\\neighbors\\_classification.py:228: FutureWarning: Unlike other reduction functions (e.g. `skew`, `kurtosis`), the default behavior of `mode` typically preserves the axis it acts along. In SciPy 1.11.0, this behavior will change: the default value of `keepdims` will become False, the `axis` over which the statistic is taken will be eliminated, and the value None will no longer be accepted. Set `keepdims` to True or False to avoid this warning.\n",
      "  mode, _ = stats.mode(_y[neigh_ind, k], axis=1)\n"
     ]
    }
   ],
   "source": [
    "knn = KNeighborsClassifier()\n",
    "knn.fit(treinoX, treinoY)\n",
    "preds_knn = knn.predict(testeX)\n",
    "from sklearn.metrics import accuracy_score\n",
    "print('Accuracy: ', accuracy_score(preds_knn, testeY))\n",
    "      \n",
    "scores_knn = cross_val_score(estimator = knn, X= input_sc, y= output_data, cv= 3)\n",
    "print(\"knn\", scores_knn)\n",
    "print('Média: ', scores_knn.mean())"
   ]
  },
  {
   "cell_type": "markdown",
   "metadata": {},
   "source": [
    "Modelo de Decision Tree"
   ]
  },
  {
   "cell_type": "code",
   "execution_count": 334,
   "metadata": {},
   "outputs": [
    {
     "name": "stdout",
     "output_type": "stream",
     "text": [
      "Accuracy:  0.8571428571428571\n",
      "tree_model [1.         0.28571429 0.28571429]\n",
      "Média:  0.5238095238095237\n"
     ]
    }
   ],
   "source": [
    "from sklearn import tree\n",
    "\n",
    "tree_model = tree.DecisionTreeClassifier()\n",
    "tree_model = tree_model.fit(treinoX, treinoY)\n",
    "print('Accuracy: ', tree_model.score(testeX,  testeY))\n",
    "\n",
    "scores_tree_model = cross_val_score(estimator = tree_model, X= input_sc, y= output_data, cv= 3)\n",
    "print(\"tree_model\", scores_tree_model)\n",
    "print('Média: ', scores_tree_model.mean())"
   ]
  },
  {
   "cell_type": "markdown",
   "metadata": {},
   "source": [
    "Regressao Logistica"
   ]
  },
  {
   "cell_type": "code",
   "execution_count": 335,
   "metadata": {},
   "outputs": [
    {
     "name": "stdout",
     "output_type": "stream",
     "text": [
      "Accuracy:  0.2857142857142857\n",
      "logistic [0.28571429 0.14285714 0.14285714]\n",
      "Média:  0.19047619047619047\n"
     ]
    }
   ],
   "source": [
    "from sklearn import linear_model\n",
    "\n",
    "logistic = linear_model.LogisticRegression(C=1e5, solver = \"liblinear\", multi_class = \"auto\")\n",
    "logistic = logistic.fit(treinoX, treinoY)\n",
    "print('Accuracy: ', logistic.score(testeX,  testeY))\n",
    "\n",
    "scores_logistic = cross_val_score(estimator = logistic, X= input_sc, y= output_data, cv= 3)\n",
    "print(\"logistic\", scores_logistic)\n",
    "print('Média: ', scores_logistic.mean())"
   ]
  },
  {
   "cell_type": "markdown",
   "metadata": {},
   "source": [
    "SVM"
   ]
  },
  {
   "cell_type": "code",
   "execution_count": 336,
   "metadata": {},
   "outputs": [
    {
     "name": "stdout",
     "output_type": "stream",
     "text": [
      "Accuracy:  0.8571428571428571\n",
      "svm_model [0.57142857 0.42857143 0.85714286]\n",
      "Média:  0.6190476190476191\n"
     ]
    }
   ],
   "source": [
    "from sklearn import svm\n",
    "\n",
    "svm_model = svm.SVC(kernel='linear', C=1)\n",
    "svm_model = svm_model.fit(treinoX, treinoY)\n",
    "print('Accuracy: ', svm_model.score(testeX,  testeY))\n",
    "\n",
    "scores_svm = cross_val_score(estimator = svm_model, X= input_sc, y= output_data, cv= 3)\n",
    "print(\"svm_model\", scores_svm)\n",
    "print('Média: ', scores_svm.mean())"
   ]
  },
  {
   "cell_type": "markdown",
   "metadata": {},
   "source": [
    "Naive Bayes"
   ]
  },
  {
   "cell_type": "code",
   "execution_count": 337,
   "metadata": {},
   "outputs": [
    {
     "name": "stdout",
     "output_type": "stream",
     "text": [
      "Accuracy:  0.5714285714285714\n",
      "gnb_model [0.71428571 0.28571429 0.85714286]\n",
      "Média:  0.6190476190476191\n"
     ]
    }
   ],
   "source": [
    "from sklearn.naive_bayes import GaussianNB\n",
    "\n",
    "gnb_model = GaussianNB()\n",
    "gnb_model = gnb_model.fit(treinoX, treinoY)\n",
    "print('Accuracy: ', gnb_model.score(testeX,  testeY))\n",
    "\n",
    "scores_gnb_model = cross_val_score(estimator = gnb_model, X= input_sc, y= output_data, cv= 3)\n",
    "print(\"gnb_model\", scores_gnb_model)\n",
    "print('Média: ', scores_gnb_model.mean())"
   ]
  },
  {
   "cell_type": "code",
   "execution_count": 338,
   "metadata": {},
   "outputs": [
    {
     "name": "stdout",
     "output_type": "stream",
     "text": [
      "                Modelo  Accuracy  Média CV\n",
      "0         K-Neighbours  0.714286  0.476190\n",
      "1        Decision Tree  0.857143  0.523810\n",
      "2  Regressao Logistica  0.285714  0.190476\n",
      "3                  SVM  0.857143  0.619048\n",
      "4          Naive Bayes  0.571429  0.619048\n"
     ]
    }
   ],
   "source": [
    "tab = {'Modelo': ['K-Neighbours', 'Decision Tree', 'Regressao Logistica', 'SVM', 'Naive Bayes'],\n",
    "        'Accuracy': [accuracy_score(preds_knn, testeY), tree_model.score(testeX,  testeY), logistic.score(testeX,  testeY), svm_model.score(testeX,  testeY), gnb_model.score(testeX,  testeY)],\n",
    "        'Média CV': [scores_knn.mean(), scores_tree_model.mean(), scores_logistic.mean(), scores_svm.mean(), scores_gnb_model.mean()]}\n",
    "tabela = pd.DataFrame(tab)\n",
    "\n",
    "# Print the dataframe as a table\n",
    "print(tabela.to_string())"
   ]
  },
  {
   "cell_type": "markdown",
   "metadata": {},
   "source": [
    "Verifica-se assim que os modelos conseguem ser mais eficazes com o novo dataset. Isto deve-se também ao facto de agora apenas terem de prever entre 3 hipóteses, o que reduz a probabilidade de erro. De qualquer forma, considera-se estes modelos mais interessantes para a aplicação prática do problema em estudo."
   ]
  },
  {
   "cell_type": "code",
   "execution_count": null,
   "metadata": {},
   "outputs": [],
   "source": []
  }
 ],
 "metadata": {
  "kernelspec": {
   "display_name": "Python 3 (ipykernel)",
   "language": "python",
   "name": "python3"
  },
  "language_info": {
   "codemirror_mode": {
    "name": "ipython",
    "version": 3
   },
   "file_extension": ".py",
   "mimetype": "text/x-python",
   "name": "python",
   "nbconvert_exporter": "python",
   "pygments_lexer": "ipython3",
   "version": "3.9.13"
  },
  "vscode": {
   "interpreter": {
    "hash": "a8a2f7cb0115a75d3c52345e7e5e6afc0f889fdd68645118a4c4ccba629d222c"
   }
  }
 },
 "nbformat": 4,
 "nbformat_minor": 2
}
